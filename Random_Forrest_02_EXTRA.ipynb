{
  "nbformat": 4,
  "nbformat_minor": 0,
  "metadata": {
    "colab": {
      "name": "Random_Forrest_02_EXTRA.ipynb",
      "provenance": [],
      "collapsed_sections": [
        "joFw5j83E-Bw"
      ]
    },
    "kernelspec": {
      "name": "python3",
      "display_name": "Python 3"
    }
  },
  "cells": [
    {
      "cell_type": "markdown",
      "metadata": {
        "id": "yWKiUpAH7qpd"
      },
      "source": [
        "# Random Forrest - EXERCÍCIO EXTRA !!!\n",
        "\n",
        "### Disciplina Inteligência Artificial\n",
        "\n",
        "Neste exercício extra vamos utilizar Random Forrest para um problema de Regressão: https://scikit-learn.org/stable/modules/generated/sklearn.ensemble.RandomForestRegressor.html\n",
        "\n",
        "Aplique Random Forrest para prever o valor de vendas de acordo com os valores investidos em publicidade (TV, Radio e Newspaper). \n",
        "\n",
        "Compare o resultado com Regressão Linear Multivalorada e responda:\n",
        "\n",
        "* Qual o melhor resultado obtido com Random Forrest e quais hiper-parâmetros foram utilizados?\n",
        "* Comparado com o resultado de Regressão Linear, qual obteve melhor performance?"
      ]
    },
    {
      "cell_type": "code",
      "metadata": {
        "id": "H7vEcHx_WxTG"
      },
      "source": [
        "# Carregando Bibliotecas Python\n",
        "import numpy as np\n",
        "import pandas as pd\n",
        "import matplotlib.pyplot as plt\n",
        "import matplotlib as mpl\n",
        "import seaborn as sns\n",
        "%matplotlib inline "
      ],
      "execution_count": null,
      "outputs": []
    },
    {
      "cell_type": "markdown",
      "metadata": {
        "id": "V-v9LUKUb7qC"
      },
      "source": [
        "## Carregando o dataset"
      ]
    },
    {
      "cell_type": "code",
      "metadata": {
        "id": "GTFwMnrk-E_a"
      },
      "source": [
        "from google.colab import drive\n",
        "drive.mount('/content/drive')\n"
      ],
      "execution_count": null,
      "outputs": []
    },
    {
      "cell_type": "code",
      "metadata": {
        "id": "3xN7Jf_pEEJa"
      },
      "source": [
        "# Podemos também trabalhar com o Pandas\n",
        "df = pd.read_csv('/content/Advertising.csv')\n",
        "\n",
        "df.head()"
      ],
      "execution_count": null,
      "outputs": []
    },
    {
      "cell_type": "markdown",
      "metadata": {
        "id": "Zu2NE1nJcBHk"
      },
      "source": [
        "## Explorando o Dataset"
      ]
    },
    {
      "cell_type": "code",
      "metadata": {
        "id": "xVEL-hgaE0pb",
        "colab": {
          "base_uri": "https://localhost:8080/"
        },
        "outputId": "9271858f-d843-413a-fa2e-7d98f1263a80"
      },
      "source": [
        "# Distribuição do target\n",
        "df['sales'].value_counts()"
      ],
      "execution_count": null,
      "outputs": [
        {
          "output_type": "execute_result",
          "data": {
            "text/plain": [
              "9.7     5\n",
              "12.9    4\n",
              "11.7    4\n",
              "15.9    4\n",
              "25.4    3\n",
              "       ..\n",
              "15.7    1\n",
              "14.2    1\n",
              "11.2    1\n",
              "19.4    1\n",
              "18.5    1\n",
              "Name: sales, Length: 121, dtype: int64"
            ]
          },
          "metadata": {
            "tags": []
          },
          "execution_count": 81
        }
      ]
    },
    {
      "cell_type": "code",
      "metadata": {
        "colab": {
          "base_uri": "https://localhost:8080/"
        },
        "id": "S7WiR_3-mqpE",
        "outputId": "b8edeec4-b678-4faa-a931-314354e9d60f"
      },
      "source": [
        "df.dtypes"
      ],
      "execution_count": null,
      "outputs": [
        {
          "output_type": "execute_result",
          "data": {
            "text/plain": [
              "Unnamed: 0      int64\n",
              "TV            float64\n",
              "radio         float64\n",
              "newspaper     float64\n",
              "sales         float64\n",
              "dtype: object"
            ]
          },
          "metadata": {
            "tags": []
          },
          "execution_count": 82
        }
      ]
    },
    {
      "cell_type": "code",
      "metadata": {
        "id": "U0BR8Z-0yVpA"
      },
      "source": [
        "#convertendo valores float para inteiro\n",
        "df['sales'] = df['sales'].astype(int)\n",
        "df['TV'] = df['TV'].astype(int)\n",
        "df['radio'] = df['radio'].astype(int)\n",
        "df['newspaper'] =df['newspaper'].astype(int)\n"
      ],
      "execution_count": null,
      "outputs": []
    },
    {
      "cell_type": "code",
      "metadata": {
        "colab": {
          "base_uri": "https://localhost:8080/"
        },
        "id": "C3dFog7SN8YI",
        "outputId": "44efa7d5-5ddc-4807-cac4-2cb053721ae1"
      },
      "source": [
        "df.dtypes"
      ],
      "execution_count": null,
      "outputs": [
        {
          "output_type": "execute_result",
          "data": {
            "text/plain": [
              "Unnamed: 0    int64\n",
              "TV            int64\n",
              "radio         int64\n",
              "newspaper     int64\n",
              "sales         int64\n",
              "dtype: object"
            ]
          },
          "metadata": {
            "tags": []
          },
          "execution_count": 84
        }
      ]
    },
    {
      "cell_type": "code",
      "metadata": {
        "id": "Zw38DnySE0pf",
        "colab": {
          "base_uri": "https://localhost:8080/",
          "height": 282
        },
        "outputId": "d946847a-7b93-4ed8-8e3f-cfe2ed7bc282"
      },
      "source": [
        "# Vamos plotar o DataFrame para ver se encontramos alguma correlação entre as variáveis que determinam o resultado\n",
        "df.plot()"
      ],
      "execution_count": null,
      "outputs": [
        {
          "output_type": "execute_result",
          "data": {
            "text/plain": [
              "<matplotlib.axes._subplots.AxesSubplot at 0x7f365d3fafd0>"
            ]
          },
          "metadata": {
            "tags": []
          },
          "execution_count": 85
        },
        {
          "output_type": "display_data",
          "data": {
            "image/png": "[encoded data removed]",
            "text/plain": [
              "<Figure size 432x288 with 1 Axes>"
            ]
          },
          "metadata": {
            "tags": [],
            "needs_background": "light"
          }
        }
      ]
    },
    {
      "cell_type": "markdown",
      "metadata": {
        "id": "aIfXziicE0pk"
      },
      "source": [
        "Não foi possível encontrar uma relação. Vamos tentar de outra forma"
      ]
    },
    {
      "cell_type": "code",
      "metadata": {
        "id": "Vg3Wk1XlZkCv"
      },
      "source": [
        "# Criando uma função para plotar a correlação entre as variáveis\n",
        "def visualize_correlation_matrix(data, hurdle = 0.0):\n",
        "    R = np.corrcoef(data, rowvar = 0)\n",
        "    R[np.where(np.abs(R) < hurdle)] = 0.0\n",
        "    heatmap = plt.pcolor(R, cmap = mpl.cm.coolwarm, alpha = 0.8)\n",
        "    heatmap.axes.set_frame_on(False)\n",
        "    heatmap.axes.set_yticks(np.arange(R.shape[0]) + 0.5, minor = False)\n",
        "    heatmap.axes.set_xticks(np.arange(R.shape[1]) + 0.5, minor = False)\n",
        "    heatmap.axes.set_xticklabels(variables, minor = False)\n",
        "    plt.xticks(rotation=90)\n",
        "    heatmap.axes.set_yticklabels(variables, minor = False)\n",
        "    plt.tick_params(axis = 'both', which = 'both', bottom = False, top = False, left = False, right = False) \n",
        "    plt.colorbar()\n",
        "    plt.show()"
      ],
      "execution_count": null,
      "outputs": []
    },
    {
      "cell_type": "code",
      "metadata": {
        "id": "x7iotJxZKxWo",
        "colab": {
          "base_uri": "https://localhost:8080/",
          "height": 320
        },
        "outputId": "073aac44-05ca-4294-cac0-d50f4d168e42"
      },
      "source": [
        "# Vamos gerar a matriz de correlação entre as variáveis e a variável alvo\n",
        "matriz_corr = df.corr()\n",
        "observations = len(matriz_corr)\n",
        "variables = matriz_corr.columns\n",
        "visualize_correlation_matrix(matriz_corr, hurdle = 0.5)"
      ],
      "execution_count": null,
      "outputs": [
        {
          "output_type": "display_data",
          "data": {
            "image/png": "[encoded data removed]",
            "text/plain": [
              "<Figure size 432x288 with 2 Axes>"
            ]
          },
          "metadata": {
            "tags": [],
            "needs_background": "light"
          }
        }
      ]
    },
    {
      "cell_type": "markdown",
      "metadata": {
        "id": "v2i6RrkJNbbf"
      },
      "source": [
        "Nos gráficos acima vemos a plotagem de todas as possíveis combinações entre as variáveis. "
      ]
    },
    {
      "cell_type": "code",
      "metadata": {
        "id": "uLevJYH7aW7j",
        "colab": {
          "base_uri": "https://localhost:8080/",
          "height": 204
        },
        "outputId": "3066e0c8-b42e-44d0-b8df-c7cd9a6c2b7f"
      },
      "source": [
        "# Vamos separar as variáveis (X) do resultado (y)\n",
        "X = df.iloc[:,1:-1]\n",
        "y = df['sales'].values\n",
        "\n",
        "\n",
        "# Imprimindo os primeiros valores de X\n",
        "X.head()"
      ],
      "execution_count": null,
      "outputs": [
        {
          "output_type": "execute_result",
          "data": {
            "text/html": [
              "<div>\n",
              "<style scoped>\n",
              "    .dataframe tbody tr th:only-of-type {\n",
              "        vertical-align: middle;\n",
              "    }\n",
              "\n",
              "    .dataframe tbody tr th {\n",
              "        vertical-align: top;\n",
              "    }\n",
              "\n",
              "    .dataframe thead th {\n",
              "        text-align: right;\n",
              "    }\n",
              "</style>\n",
              "<table border=\"1\" class=\"dataframe\">\n",
              "  <thead>\n",
              "    <tr style=\"text-align: right;\">\n",
              "      <th></th>\n",
              "      <th>TV</th>\n",
              "      <th>radio</th>\n",
              "      <th>newspaper</th>\n",
              "    </tr>\n",
              "  </thead>\n",
              "  <tbody>\n",
              "    <tr>\n",
              "      <th>0</th>\n",
              "      <td>230</td>\n",
              "      <td>37</td>\n",
              "      <td>69</td>\n",
              "    </tr>\n",
              "    <tr>\n",
              "      <th>1</th>\n",
              "      <td>44</td>\n",
              "      <td>39</td>\n",
              "      <td>45</td>\n",
              "    </tr>\n",
              "    <tr>\n",
              "      <th>2</th>\n",
              "      <td>17</td>\n",
              "      <td>45</td>\n",
              "      <td>69</td>\n",
              "    </tr>\n",
              "    <tr>\n",
              "      <th>3</th>\n",
              "      <td>151</td>\n",
              "      <td>41</td>\n",
              "      <td>58</td>\n",
              "    </tr>\n",
              "    <tr>\n",
              "      <th>4</th>\n",
              "      <td>180</td>\n",
              "      <td>10</td>\n",
              "      <td>58</td>\n",
              "    </tr>\n",
              "  </tbody>\n",
              "</table>\n",
              "</div>"
            ],
            "text/plain": [
              "    TV  radio  newspaper\n",
              "0  230     37         69\n",
              "1   44     39         45\n",
              "2   17     45         69\n",
              "3  151     41         58\n",
              "4  180     10         58"
            ]
          },
          "metadata": {
            "tags": []
          },
          "execution_count": 88
        }
      ]
    },
    {
      "cell_type": "code",
      "metadata": {
        "id": "6-uq96WdbNBC",
        "colab": {
          "base_uri": "https://localhost:8080/"
        },
        "outputId": "de5b17e4-de97-44c2-db02-98cff5120f35"
      },
      "source": [
        "# Imprimindo os 10 primeiros valores de y\n",
        "print(y[:10])"
      ],
      "execution_count": null,
      "outputs": [
        {
          "output_type": "stream",
          "text": [
            "[22 10  9 18 12  7 11 13  4 10]\n"
          ],
          "name": "stdout"
        }
      ]
    },
    {
      "cell_type": "code",
      "metadata": {
        "id": "1no2P8hPcqM6",
        "colab": {
          "base_uri": "https://localhost:8080/"
        },
        "outputId": "c5833b8e-d926-496c-8925-16650496e065"
      },
      "source": [
        "# Imprimindo o Shape de X e y\n",
        "print(X.shape)\n",
        "print(y.shape)"
      ],
      "execution_count": null,
      "outputs": [
        {
          "output_type": "stream",
          "text": [
            "(200, 3)\n",
            "(200,)\n"
          ],
          "name": "stdout"
        }
      ]
    },
    {
      "cell_type": "markdown",
      "metadata": {
        "id": "ITjytDojcExC"
      },
      "source": [
        "## Random Forrest (Floresta Aleatória)"
      ]
    },
    {
      "cell_type": "code",
      "metadata": {
        "id": "__k7flu7enzQ",
        "colab": {
          "base_uri": "https://localhost:8080/"
        },
        "outputId": "ab90124b-8fbd-49e5-9132-877eae253a30"
      },
      "source": [
        "# Separação entre os dados de treino e teste\n",
        "from sklearn.model_selection import train_test_split\n",
        "X_train, X_test, y_train, y_test = train_test_split (X , y, test_size=0.4, random_state=50)\n",
        "print('X_train:',X_train.shape)\n",
        "print('y_train:',y_train.shape)\n",
        "print('X_test:',X_test.shape)\n",
        "print('y_test:',y_test.shape)"
      ],
      "execution_count": null,
      "outputs": [
        {
          "output_type": "stream",
          "text": [
            "X_train: (120, 3)\n",
            "y_train: (120,)\n",
            "X_test: (80, 3)\n",
            "y_test: (80,)\n"
          ],
          "name": "stdout"
        }
      ]
    },
    {
      "cell_type": "code",
      "metadata": {
        "id": "ds8JQcvdenxS",
        "colab": {
          "base_uri": "https://localhost:8080/"
        },
        "outputId": "b4a02aca-2aba-4bcf-9fae-039cc1babdef"
      },
      "source": [
        "%%time\n",
        "# Utilizando Random Forrest (Floresta Aleatória)\n",
        "from sklearn.tree import plot_tree\n",
        "from sklearn.ensemble import RandomForestClassifier\n",
        "rf = RandomForestClassifier(n_estimators=100, random_state=0, max_depth=5, max_features='sqrt', min_samples_split=2)\n",
        "rf.fit(X_train, y_train)\n",
        "\n",
        "# prevendo valores para X_test\n",
        "y_pred = rf.predict(X_test)\n",
        "\n",
        "from sklearn.metrics import accuracy_score\n",
        "#print (\"Accuracy is \", accuracy_score(y_test,y_pred)*100)\n",
        "print()\n",
        "\n",
        "# Medidas de desempenho\n",
        "from sklearn.metrics import accuracy_score, precision_score, recall_score, f1_score\n",
        "print(\"Accuracy:\",accuracy_score(y_pred,y_test))\n",
        "print(\"Precision:\",precision_score(y_pred,y_test,average='weighted'))\n",
        "print(\"Recall:\",recall_score(y_pred,y_test,average='weighted'))\n",
        "print(\"F1 Score:\",f1_score(y_pred,y_test,average='weighted'))\n",
        "print()"
      ],
      "execution_count": null,
      "outputs": [
        {
          "output_type": "stream",
          "text": [
            "\n",
            "Accuracy: 0.25\n",
            "Precision: 0.5149278499278499\n",
            "Recall: 0.25\n",
            "F1 Score: 0.28577090783612524\n",
            "\n",
            "CPU times: user 168 ms, sys: 13.8 ms, total: 182 ms\n",
            "Wall time: 179 ms\n"
          ],
          "name": "stdout"
        },
        {
          "output_type": "stream",
          "text": [
            "/usr/local/lib/python3.6/dist-packages/sklearn/metrics/_classification.py:1272: UndefinedMetricWarning: Precision is ill-defined and being set to 0.0 in labels with no predicted samples. Use `zero_division` parameter to control this behavior.\n",
            "  _warn_prf(average, modifier, msg_start, len(result))\n",
            "/usr/local/lib/python3.6/dist-packages/sklearn/metrics/_classification.py:1272: UndefinedMetricWarning: Recall is ill-defined and being set to 0.0 in labels with no true samples. Use `zero_division` parameter to control this behavior.\n",
            "  _warn_prf(average, modifier, msg_start, len(result))\n"
          ],
          "name": "stderr"
        }
      ]
    },
    {
      "cell_type": "markdown",
      "metadata": {
        "id": "joFw5j83E-Bw"
      },
      "source": [
        "## Regressão Linear"
      ]
    },
    {
      "cell_type": "code",
      "metadata": {
        "colab": {
          "base_uri": "https://localhost:8080/"
        },
        "id": "j8XBJbEcE-Bw",
        "outputId": "cdb65f26-2fef-41ec-be65-047705be73db"
      },
      "source": [
        "# Vamos agora imprimir um scatter plot entre RM e o resultado (target)\n",
        "# Definindo o range dos valores de x e y\n",
        "VAR = ['TV','radio','newspaper']\n",
        "X_2 = X[VAR].values.reshape((len(df),3))\n",
        "print(X_2.shape)\n",
        "\n",
        "\n",
        "# Define os valores de X e y\n",
        "num_observ = len(df)\n",
        "X_1 = df[VAR].values.reshape((num_observ, 3))\n",
        "y = df['sales'].values "
      ],
      "execution_count": null,
      "outputs": [
        {
          "output_type": "stream",
          "text": [
            "(200, 3)\n"
          ],
          "name": "stdout"
        }
      ]
    },
    {
      "cell_type": "code",
      "metadata": {
        "colab": {
          "base_uri": "https://localhost:8080/"
        },
        "id": "RI8gp8KdE-Bx",
        "outputId": "19774f2c-1a82-475e-c9af-675be100ed0a"
      },
      "source": [
        "# Separação entre os dados de treino e teste\n",
        "from sklearn.model_selection import train_test_split\n",
        "X_train, X_test, y_train, y_test = train_test_split (X_1 , y, test_size=0.3, random_state=50)\n",
        "print('X_train:',X_train.shape)\n",
        "print('y_train:',y_train.shape)\n",
        "print('X_test:',X_test.shape)\n",
        "print('y_test:',y_test.shape)\n",
        "print()\n",
        "\n",
        "# Importando a biblioteca\n",
        "from sklearn import linear_model\n",
        "# Cria o objeto\n",
        "lin_reg = linear_model.LinearRegression(copy_X=True, fit_intercept=bool, n_jobs=10, normalize=True)\n",
        "\n",
        "# Treina o modelo - fit()\n",
        "lin_reg.fit(X_train,y_train)\n",
        "\n",
        "\n",
        "# Imprime os coeficientes\n",
        "print (lin_reg.coef_)\n",
        "print (lin_reg.intercept_)\n",
        "\n",
        "print()\n",
        "# prevendo valores para X_test\n",
        "y_pred = lin_reg.predict(X_test)\n",
        "print('Shape y_pred:',y_pred.shape)\n",
        "\n",
        "print()\n",
        "# Medidas de desempenho\n",
        "from sklearn.metrics import mean_squared_error,mean_absolute_error,r2_score\n",
        "print(\"Mean Squared Error (MSE):\",mean_squared_error(y_pred,y_test))\n",
        "print(\"Mean Absolute Error (MAE):\",mean_absolute_error(y_pred,y_test))\n",
        "print(\"Score R2:\",r2_score(y_pred,y_test))"
      ],
      "execution_count": null,
      "outputs": [
        {
          "output_type": "stream",
          "text": [
            "X_train: (140, 3)\n",
            "y_train: (140,)\n",
            "X_test: (60, 3)\n",
            "y_test: (60,)\n",
            "\n",
            "[0.04760398 0.18299409 0.00757449]\n",
            "2.219286806831656\n",
            "\n",
            "Shape y_pred: (60,)\n",
            "\n",
            "Mean Squared Error (MSE): 2.7800221886833953\n",
            "Mean Absolute Error (MAE): 1.286490027022714\n",
            "Score R2: 0.861746315248449\n"
          ],
          "name": "stdout"
        }
      ]
    },
    {
      "cell_type": "markdown",
      "metadata": {
        "id": "TNqaZoFQoz58"
      },
      "source": [
        "O modelo Random Forrest teve o pior desempenho em comparação ao modelo de regressão linear para esse dataset.\n",
        "\n",
        "Realizamos varios atualizações dos hiper-parâmetros e para o modelo Random Forrest ficou como: teste_size=0.4, max_depth=5 e para os demais hiper-parâmetros como default.\n",
        "\n",
        "O modelo de Regressão Linear os melhores hiper-parâmetros que definiu para uma melhor acuracia: test_size=0.3, copy_X=True, fit_intercept=bool, n_jobs=10, normalize=True.\n"
      ]
    },
    {
      "cell_type": "markdown",
      "metadata": {
        "id": "RvXr2TS0c_lL"
      },
      "source": [
        "Modelo | ....\n",
        "--- | ------\n",
        "Random Forrest | Accuracy: 0.25\n",
        "Regressão Linear | Score R2: 0.861746315248449"
      ]
    }
  ]
}