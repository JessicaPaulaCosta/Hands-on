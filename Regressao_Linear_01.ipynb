{
  "nbformat": 4,
  "nbformat_minor": 0,
  "metadata": {
    "kernelspec": {
      "display_name": "Python 3",
      "language": "python",
      "name": "python3"
    },
    "language_info": {
      "codemirror_mode": {
        "name": "ipython",
        "version": 3
      },
      "file_extension": ".py",
      "mimetype": "text/x-python",
      "name": "python",
      "nbconvert_exporter": "python",
      "pygments_lexer": "ipython3",
      "version": "3.6.5"
    },
    "colab": {
      "name": "Regressao_Linear_01.ipynb",
      "provenance": [],
      "collapsed_sections": [
        "V-v9LUKUb7qC"
      ]
    }
  },
  "cells": [
    {
      "cell_type": "markdown",
      "metadata": {
        "id": "gkOlO6XIE0pA"
      },
      "source": [
        "## Regressao Linear 01\n",
        "\n",
        "### Disciplina Inteligência Artificial\n",
        "\n",
        "Neste jupyter vamos criar um modelo de regressão linear para estimar a probabilidade de admissões de pós-graduação.\n",
        "\n",
        "Dataset: https://www.kaggle.com/mohansacharya/graduate-admissions\n"
      ]
    },
    {
      "cell_type": "markdown",
      "metadata": {
        "id": "xl2EsGZC3hCL"
      },
      "source": [
        "## Montando o Drive"
      ]
    },
    {
      "cell_type": "code",
      "metadata": {
        "id": "OMd95IZXWLc6",
        "colab": {
          "base_uri": "https://localhost:8080/"
        },
        "outputId": "f9862908-428f-42c7-fe05-75d0764edfc6"
      },
      "source": [
        "# Execute esta célula para montar o Google Drive\n",
        "from google.colab import drive\n",
        "drive.mount('/content/drive')"
      ],
      "execution_count": null,
      "outputs": [
        {
          "output_type": "stream",
          "text": [
            "Mounted at /content/drive\n"
          ],
          "name": "stdout"
        }
      ]
    },
    {
      "cell_type": "markdown",
      "metadata": {
        "id": "V-v9LUKUb7qC"
      },
      "source": [
        "## Carregando o dataset"
      ]
    },
    {
      "cell_type": "code",
      "metadata": {
        "id": "H7vEcHx_WxTG"
      },
      "source": [
        "# Carregando Bibliotecas Python\n",
        "import numpy as np\n",
        "import pandas as pd\n",
        "import matplotlib.pyplot as plt\n",
        "import matplotlib as mpl\n",
        "%matplotlib inline "
      ],
      "execution_count": null,
      "outputs": []
    },
    {
      "cell_type": "code",
      "metadata": {
        "id": "M_xElfg0E0pB",
        "colab": {
          "base_uri": "https://localhost:8080/"
        },
        "outputId": "5ae0c617-5ee0-4e16-c84b-40491b852dba"
      },
      "source": [
        "# Carregando o Dataset Admission_Predict_Ver1.1.csv com o pacote Pandas, criando o DataFrame df\n",
        "df = pd.read_csv(\"/content/Admission_Predict_Ver1.1.csv\")\n",
        "df.head()"
      ],
      "execution_count": null,
      "outputs": [
        {
          "output_type": "execute_result",
          "data": {
            "text/html": [
              "<div>\n",
              "<style scoped>\n",
              "    .dataframe tbody tr th:only-of-type {\n",
              "        vertical-align: middle;\n",
              "    }\n",
              "\n",
              "    .dataframe tbody tr th {\n",
              "        vertical-align: top;\n",
              "    }\n",
              "\n",
              "    .dataframe thead th {\n",
              "        text-align: right;\n",
              "    }\n",
              "</style>\n",
              "<table border=\"1\" class=\"dataframe\">\n",
              "  <thead>\n",
              "    <tr style=\"text-align: right;\">\n",
              "      <th></th>\n",
              "      <th>Serial No.</th>\n",
              "      <th>GRE Score</th>\n",
              "      <th>TOEFL Score</th>\n",
              "      <th>University Rating</th>\n",
              "      <th>SOP</th>\n",
              "      <th>LOR</th>\n",
              "      <th>CGPA</th>\n",
              "      <th>Research</th>\n",
              "      <th>Chance of Admit</th>\n",
              "    </tr>\n",
              "  </thead>\n",
              "  <tbody>\n",
              "    <tr>\n",
              "      <th>0</th>\n",
              "      <td>1</td>\n",
              "      <td>337</td>\n",
              "      <td>118</td>\n",
              "      <td>4</td>\n",
              "      <td>4.5</td>\n",
              "      <td>4.5</td>\n",
              "      <td>9.65</td>\n",
              "      <td>1</td>\n",
              "      <td>0.92</td>\n",
              "    </tr>\n",
              "    <tr>\n",
              "      <th>1</th>\n",
              "      <td>2</td>\n",
              "      <td>324</td>\n",
              "      <td>107</td>\n",
              "      <td>4</td>\n",
              "      <td>4.0</td>\n",
              "      <td>4.5</td>\n",
              "      <td>8.87</td>\n",
              "      <td>1</td>\n",
              "      <td>0.76</td>\n",
              "    </tr>\n",
              "    <tr>\n",
              "      <th>2</th>\n",
              "      <td>3</td>\n",
              "      <td>316</td>\n",
              "      <td>104</td>\n",
              "      <td>3</td>\n",
              "      <td>3.0</td>\n",
              "      <td>3.5</td>\n",
              "      <td>8.00</td>\n",
              "      <td>1</td>\n",
              "      <td>0.72</td>\n",
              "    </tr>\n",
              "    <tr>\n",
              "      <th>3</th>\n",
              "      <td>4</td>\n",
              "      <td>322</td>\n",
              "      <td>110</td>\n",
              "      <td>3</td>\n",
              "      <td>3.5</td>\n",
              "      <td>2.5</td>\n",
              "      <td>8.67</td>\n",
              "      <td>1</td>\n",
              "      <td>0.80</td>\n",
              "    </tr>\n",
              "    <tr>\n",
              "      <th>4</th>\n",
              "      <td>5</td>\n",
              "      <td>314</td>\n",
              "      <td>103</td>\n",
              "      <td>2</td>\n",
              "      <td>2.0</td>\n",
              "      <td>3.0</td>\n",
              "      <td>8.21</td>\n",
              "      <td>0</td>\n",
              "      <td>0.65</td>\n",
              "    </tr>\n",
              "  </tbody>\n",
              "</table>\n",
              "</div>"
            ],
            "text/plain": [
              "   Serial No.  GRE Score  TOEFL Score  ...  CGPA  Research  Chance of Admit \n",
              "0           1        337          118  ...  9.65         1              0.92\n",
              "1           2        324          107  ...  8.87         1              0.76\n",
              "2           3        316          104  ...  8.00         1              0.72\n",
              "3           4        322          110  ...  8.67         1              0.80\n",
              "4           5        314          103  ...  8.21         0              0.65\n",
              "\n",
              "[5 rows x 9 columns]"
            ]
          },
          "metadata": {
            "tags": []
          },
          "execution_count": 3
        }
      ]
    },
    {
      "cell_type": "code",
      "metadata": {
        "id": "aSj91w29W2GX",
        "colab": {
          "base_uri": "https://localhost:8080/"
        },
        "outputId": "cf4d4cad-4081-45d1-bdf2-896861162cd8"
      },
      "source": [
        "# Verificando os últimos registros do dataset\n",
        "df.tail()"
      ],
      "execution_count": null,
      "outputs": [
        {
          "output_type": "execute_result",
          "data": {
            "text/html": [
              "<div>\n",
              "<style scoped>\n",
              "    .dataframe tbody tr th:only-of-type {\n",
              "        vertical-align: middle;\n",
              "    }\n",
              "\n",
              "    .dataframe tbody tr th {\n",
              "        vertical-align: top;\n",
              "    }\n",
              "\n",
              "    .dataframe thead th {\n",
              "        text-align: right;\n",
              "    }\n",
              "</style>\n",
              "<table border=\"1\" class=\"dataframe\">\n",
              "  <thead>\n",
              "    <tr style=\"text-align: right;\">\n",
              "      <th></th>\n",
              "      <th>Serial No.</th>\n",
              "      <th>GRE Score</th>\n",
              "      <th>TOEFL Score</th>\n",
              "      <th>University Rating</th>\n",
              "      <th>SOP</th>\n",
              "      <th>LOR</th>\n",
              "      <th>CGPA</th>\n",
              "      <th>Research</th>\n",
              "      <th>Chance of Admit</th>\n",
              "    </tr>\n",
              "  </thead>\n",
              "  <tbody>\n",
              "    <tr>\n",
              "      <th>495</th>\n",
              "      <td>496</td>\n",
              "      <td>332</td>\n",
              "      <td>108</td>\n",
              "      <td>5</td>\n",
              "      <td>4.5</td>\n",
              "      <td>4.0</td>\n",
              "      <td>9.02</td>\n",
              "      <td>1</td>\n",
              "      <td>0.87</td>\n",
              "    </tr>\n",
              "    <tr>\n",
              "      <th>496</th>\n",
              "      <td>497</td>\n",
              "      <td>337</td>\n",
              "      <td>117</td>\n",
              "      <td>5</td>\n",
              "      <td>5.0</td>\n",
              "      <td>5.0</td>\n",
              "      <td>9.87</td>\n",
              "      <td>1</td>\n",
              "      <td>0.96</td>\n",
              "    </tr>\n",
              "    <tr>\n",
              "      <th>497</th>\n",
              "      <td>498</td>\n",
              "      <td>330</td>\n",
              "      <td>120</td>\n",
              "      <td>5</td>\n",
              "      <td>4.5</td>\n",
              "      <td>5.0</td>\n",
              "      <td>9.56</td>\n",
              "      <td>1</td>\n",
              "      <td>0.93</td>\n",
              "    </tr>\n",
              "    <tr>\n",
              "      <th>498</th>\n",
              "      <td>499</td>\n",
              "      <td>312</td>\n",
              "      <td>103</td>\n",
              "      <td>4</td>\n",
              "      <td>4.0</td>\n",
              "      <td>5.0</td>\n",
              "      <td>8.43</td>\n",
              "      <td>0</td>\n",
              "      <td>0.73</td>\n",
              "    </tr>\n",
              "    <tr>\n",
              "      <th>499</th>\n",
              "      <td>500</td>\n",
              "      <td>327</td>\n",
              "      <td>113</td>\n",
              "      <td>4</td>\n",
              "      <td>4.5</td>\n",
              "      <td>4.5</td>\n",
              "      <td>9.04</td>\n",
              "      <td>0</td>\n",
              "      <td>0.84</td>\n",
              "    </tr>\n",
              "  </tbody>\n",
              "</table>\n",
              "</div>"
            ],
            "text/plain": [
              "     Serial No.  GRE Score  TOEFL Score  ...  CGPA  Research  Chance of Admit \n",
              "495         496        332          108  ...  9.02         1              0.87\n",
              "496         497        337          117  ...  9.87         1              0.96\n",
              "497         498        330          120  ...  9.56         1              0.93\n",
              "498         499        312          103  ...  8.43         0              0.73\n",
              "499         500        327          113  ...  9.04         0              0.84\n",
              "\n",
              "[5 rows x 9 columns]"
            ]
          },
          "metadata": {
            "tags": []
          },
          "execution_count": 4
        }
      ]
    },
    {
      "cell_type": "markdown",
      "metadata": {
        "id": "uMUN-JplXLUw"
      },
      "source": [
        "Veja acima que a primeira coluna (Serial No.) podemos ignorar, pois é apenas uma chave e que não afeta a chance de admissão"
      ]
    },
    {
      "cell_type": "code",
      "metadata": {
        "id": "KtfiL_xcXKk6",
        "colab": {
          "base_uri": "https://localhost:8080/"
        },
        "outputId": "e0bc2a40-5030-4a60-cb7f-48807f0f0646"
      },
      "source": [
        "# Ignorando a primeia linha\n",
        "df = df.iloc[:,1:]\n",
        "df.head()"
      ],
      "execution_count": null,
      "outputs": [
        {
          "output_type": "execute_result",
          "data": {
            "text/html": [
              "<div>\n",
              "<style scoped>\n",
              "    .dataframe tbody tr th:only-of-type {\n",
              "        vertical-align: middle;\n",
              "    }\n",
              "\n",
              "    .dataframe tbody tr th {\n",
              "        vertical-align: top;\n",
              "    }\n",
              "\n",
              "    .dataframe thead th {\n",
              "        text-align: right;\n",
              "    }\n",
              "</style>\n",
              "<table border=\"1\" class=\"dataframe\">\n",
              "  <thead>\n",
              "    <tr style=\"text-align: right;\">\n",
              "      <th></th>\n",
              "      <th>GRE Score</th>\n",
              "      <th>TOEFL Score</th>\n",
              "      <th>University Rating</th>\n",
              "      <th>SOP</th>\n",
              "      <th>LOR</th>\n",
              "      <th>CGPA</th>\n",
              "      <th>Research</th>\n",
              "      <th>Chance of Admit</th>\n",
              "    </tr>\n",
              "  </thead>\n",
              "  <tbody>\n",
              "    <tr>\n",
              "      <th>0</th>\n",
              "      <td>337</td>\n",
              "      <td>118</td>\n",
              "      <td>4</td>\n",
              "      <td>4.5</td>\n",
              "      <td>4.5</td>\n",
              "      <td>9.65</td>\n",
              "      <td>1</td>\n",
              "      <td>0.92</td>\n",
              "    </tr>\n",
              "    <tr>\n",
              "      <th>1</th>\n",
              "      <td>324</td>\n",
              "      <td>107</td>\n",
              "      <td>4</td>\n",
              "      <td>4.0</td>\n",
              "      <td>4.5</td>\n",
              "      <td>8.87</td>\n",
              "      <td>1</td>\n",
              "      <td>0.76</td>\n",
              "    </tr>\n",
              "    <tr>\n",
              "      <th>2</th>\n",
              "      <td>316</td>\n",
              "      <td>104</td>\n",
              "      <td>3</td>\n",
              "      <td>3.0</td>\n",
              "      <td>3.5</td>\n",
              "      <td>8.00</td>\n",
              "      <td>1</td>\n",
              "      <td>0.72</td>\n",
              "    </tr>\n",
              "    <tr>\n",
              "      <th>3</th>\n",
              "      <td>322</td>\n",
              "      <td>110</td>\n",
              "      <td>3</td>\n",
              "      <td>3.5</td>\n",
              "      <td>2.5</td>\n",
              "      <td>8.67</td>\n",
              "      <td>1</td>\n",
              "      <td>0.80</td>\n",
              "    </tr>\n",
              "    <tr>\n",
              "      <th>4</th>\n",
              "      <td>314</td>\n",
              "      <td>103</td>\n",
              "      <td>2</td>\n",
              "      <td>2.0</td>\n",
              "      <td>3.0</td>\n",
              "      <td>8.21</td>\n",
              "      <td>0</td>\n",
              "      <td>0.65</td>\n",
              "    </tr>\n",
              "  </tbody>\n",
              "</table>\n",
              "</div>"
            ],
            "text/plain": [
              "   GRE Score  TOEFL Score  University Rating  ...  CGPA  Research  Chance of Admit \n",
              "0        337          118                  4  ...  9.65         1              0.92\n",
              "1        324          107                  4  ...  8.87         1              0.76\n",
              "2        316          104                  3  ...  8.00         1              0.72\n",
              "3        322          110                  3  ...  8.67         1              0.80\n",
              "4        314          103                  2  ...  8.21         0              0.65\n",
              "\n",
              "[5 rows x 8 columns]"
            ]
          },
          "metadata": {
            "tags": []
          },
          "execution_count": 5
        }
      ]
    },
    {
      "cell_type": "markdown",
      "metadata": {
        "id": "tc73QpHgXm7p"
      },
      "source": [
        "Veja acima que a primeira coluna foi removida"
      ]
    },
    {
      "cell_type": "code",
      "metadata": {
        "id": "-fYsZWBKXhK3",
        "colab": {
          "base_uri": "https://localhost:8080/"
        },
        "outputId": "405e5c10-0283-4a6f-ca23-6715c671534a"
      },
      "source": [
        "# Vamos verificar se existem valores nulos\n",
        "df.isna().sum()"
      ],
      "execution_count": null,
      "outputs": [
        {
          "output_type": "execute_result",
          "data": {
            "text/plain": [
              "GRE Score            0\n",
              "TOEFL Score          0\n",
              "University Rating    0\n",
              "SOP                  0\n",
              "LOR                  0\n",
              "CGPA                 0\n",
              "Research             0\n",
              "Chance of Admit      0\n",
              "dtype: int64"
            ]
          },
          "metadata": {
            "tags": []
          },
          "execution_count": 6
        }
      ]
    },
    {
      "cell_type": "markdown",
      "metadata": {
        "id": "ZPitc7O1Xqaf"
      },
      "source": [
        "Veja acima que não temos nenhum valor nulo"
      ]
    },
    {
      "cell_type": "code",
      "metadata": {
        "id": "fhhtfhmhW6y5",
        "colab": {
          "base_uri": "https://localhost:8080/"
        },
        "outputId": "7b94f322-d1ad-42c7-dbce-4d283a1b74be"
      },
      "source": [
        "# Imprimindo o describe()\n",
        "df.describe()"
      ],
      "execution_count": null,
      "outputs": [
        {
          "output_type": "execute_result",
          "data": {
            "text/html": [
              "<div>\n",
              "<style scoped>\n",
              "    .dataframe tbody tr th:only-of-type {\n",
              "        vertical-align: middle;\n",
              "    }\n",
              "\n",
              "    .dataframe tbody tr th {\n",
              "        vertical-align: top;\n",
              "    }\n",
              "\n",
              "    .dataframe thead th {\n",
              "        text-align: right;\n",
              "    }\n",
              "</style>\n",
              "<table border=\"1\" class=\"dataframe\">\n",
              "  <thead>\n",
              "    <tr style=\"text-align: right;\">\n",
              "      <th></th>\n",
              "      <th>GRE Score</th>\n",
              "      <th>TOEFL Score</th>\n",
              "      <th>University Rating</th>\n",
              "      <th>SOP</th>\n",
              "      <th>LOR</th>\n",
              "      <th>CGPA</th>\n",
              "      <th>Research</th>\n",
              "      <th>Chance of Admit</th>\n",
              "    </tr>\n",
              "  </thead>\n",
              "  <tbody>\n",
              "    <tr>\n",
              "      <th>count</th>\n",
              "      <td>500.000000</td>\n",
              "      <td>500.000000</td>\n",
              "      <td>500.000000</td>\n",
              "      <td>500.000000</td>\n",
              "      <td>500.00000</td>\n",
              "      <td>500.000000</td>\n",
              "      <td>500.000000</td>\n",
              "      <td>500.00000</td>\n",
              "    </tr>\n",
              "    <tr>\n",
              "      <th>mean</th>\n",
              "      <td>316.472000</td>\n",
              "      <td>107.192000</td>\n",
              "      <td>3.114000</td>\n",
              "      <td>3.374000</td>\n",
              "      <td>3.48400</td>\n",
              "      <td>8.576440</td>\n",
              "      <td>0.560000</td>\n",
              "      <td>0.72174</td>\n",
              "    </tr>\n",
              "    <tr>\n",
              "      <th>std</th>\n",
              "      <td>11.295148</td>\n",
              "      <td>6.081868</td>\n",
              "      <td>1.143512</td>\n",
              "      <td>0.991004</td>\n",
              "      <td>0.92545</td>\n",
              "      <td>0.604813</td>\n",
              "      <td>0.496884</td>\n",
              "      <td>0.14114</td>\n",
              "    </tr>\n",
              "    <tr>\n",
              "      <th>min</th>\n",
              "      <td>290.000000</td>\n",
              "      <td>92.000000</td>\n",
              "      <td>1.000000</td>\n",
              "      <td>1.000000</td>\n",
              "      <td>1.00000</td>\n",
              "      <td>6.800000</td>\n",
              "      <td>0.000000</td>\n",
              "      <td>0.34000</td>\n",
              "    </tr>\n",
              "    <tr>\n",
              "      <th>25%</th>\n",
              "      <td>308.000000</td>\n",
              "      <td>103.000000</td>\n",
              "      <td>2.000000</td>\n",
              "      <td>2.500000</td>\n",
              "      <td>3.00000</td>\n",
              "      <td>8.127500</td>\n",
              "      <td>0.000000</td>\n",
              "      <td>0.63000</td>\n",
              "    </tr>\n",
              "    <tr>\n",
              "      <th>50%</th>\n",
              "      <td>317.000000</td>\n",
              "      <td>107.000000</td>\n",
              "      <td>3.000000</td>\n",
              "      <td>3.500000</td>\n",
              "      <td>3.50000</td>\n",
              "      <td>8.560000</td>\n",
              "      <td>1.000000</td>\n",
              "      <td>0.72000</td>\n",
              "    </tr>\n",
              "    <tr>\n",
              "      <th>75%</th>\n",
              "      <td>325.000000</td>\n",
              "      <td>112.000000</td>\n",
              "      <td>4.000000</td>\n",
              "      <td>4.000000</td>\n",
              "      <td>4.00000</td>\n",
              "      <td>9.040000</td>\n",
              "      <td>1.000000</td>\n",
              "      <td>0.82000</td>\n",
              "    </tr>\n",
              "    <tr>\n",
              "      <th>max</th>\n",
              "      <td>340.000000</td>\n",
              "      <td>120.000000</td>\n",
              "      <td>5.000000</td>\n",
              "      <td>5.000000</td>\n",
              "      <td>5.00000</td>\n",
              "      <td>9.920000</td>\n",
              "      <td>1.000000</td>\n",
              "      <td>0.97000</td>\n",
              "    </tr>\n",
              "  </tbody>\n",
              "</table>\n",
              "</div>"
            ],
            "text/plain": [
              "        GRE Score  TOEFL Score  ...    Research  Chance of Admit \n",
              "count  500.000000   500.000000  ...  500.000000         500.00000\n",
              "mean   316.472000   107.192000  ...    0.560000           0.72174\n",
              "std     11.295148     6.081868  ...    0.496884           0.14114\n",
              "min    290.000000    92.000000  ...    0.000000           0.34000\n",
              "25%    308.000000   103.000000  ...    0.000000           0.63000\n",
              "50%    317.000000   107.000000  ...    1.000000           0.72000\n",
              "75%    325.000000   112.000000  ...    1.000000           0.82000\n",
              "max    340.000000   120.000000  ...    1.000000           0.97000\n",
              "\n",
              "[8 rows x 8 columns]"
            ]
          },
          "metadata": {
            "tags": []
          },
          "execution_count": 7
        }
      ]
    },
    {
      "cell_type": "markdown",
      "metadata": {
        "id": "r1qvJRFLXyjP"
      },
      "source": [
        "Como pode ser visto acima, temos 500 exemplos"
      ]
    },
    {
      "cell_type": "code",
      "metadata": {
        "id": "xv8RlUFBYwYk",
        "colab": {
          "base_uri": "https://localhost:8080/"
        },
        "outputId": "c6caeaea-e054-4939-8489-9f94b89d748e"
      },
      "source": [
        "# Vamos verificar o nome das colunas\n",
        "df.columns"
      ],
      "execution_count": null,
      "outputs": [
        {
          "output_type": "execute_result",
          "data": {
            "text/plain": [
              "Index(['GRE Score', 'TOEFL Score', 'University Rating', 'SOP', 'LOR ', 'CGPA',\n",
              "       'Research', 'Chance of Admit '],\n",
              "      dtype='object')"
            ]
          },
          "metadata": {
            "tags": []
          },
          "execution_count": 8
        }
      ]
    },
    {
      "cell_type": "code",
      "metadata": {
        "id": "yFKSUE5VY3Y1",
        "colab": {
          "base_uri": "https://localhost:8080/"
        },
        "outputId": "7fca024b-9097-414d-f56b-801d83b05076"
      },
      "source": [
        "# Vamos renomear as colunas para remover espaços\n",
        "df.columns = ['GRE_Score', 'TOEFL_Score', 'University_Rating', 'SOP', 'LOR', 'CGPA', 'Research', 'Chance_of_Admit']\n",
        "df.head()"
      ],
      "execution_count": null,
      "outputs": [
        {
          "output_type": "execute_result",
          "data": {
            "text/html": [
              "<div>\n",
              "<style scoped>\n",
              "    .dataframe tbody tr th:only-of-type {\n",
              "        vertical-align: middle;\n",
              "    }\n",
              "\n",
              "    .dataframe tbody tr th {\n",
              "        vertical-align: top;\n",
              "    }\n",
              "\n",
              "    .dataframe thead th {\n",
              "        text-align: right;\n",
              "    }\n",
              "</style>\n",
              "<table border=\"1\" class=\"dataframe\">\n",
              "  <thead>\n",
              "    <tr style=\"text-align: right;\">\n",
              "      <th></th>\n",
              "      <th>GRE_Score</th>\n",
              "      <th>TOEFL_Score</th>\n",
              "      <th>University_Rating</th>\n",
              "      <th>SOP</th>\n",
              "      <th>LOR</th>\n",
              "      <th>CGPA</th>\n",
              "      <th>Research</th>\n",
              "      <th>Chance_of_Admit</th>\n",
              "    </tr>\n",
              "  </thead>\n",
              "  <tbody>\n",
              "    <tr>\n",
              "      <th>0</th>\n",
              "      <td>337</td>\n",
              "      <td>118</td>\n",
              "      <td>4</td>\n",
              "      <td>4.5</td>\n",
              "      <td>4.5</td>\n",
              "      <td>9.65</td>\n",
              "      <td>1</td>\n",
              "      <td>0.92</td>\n",
              "    </tr>\n",
              "    <tr>\n",
              "      <th>1</th>\n",
              "      <td>324</td>\n",
              "      <td>107</td>\n",
              "      <td>4</td>\n",
              "      <td>4.0</td>\n",
              "      <td>4.5</td>\n",
              "      <td>8.87</td>\n",
              "      <td>1</td>\n",
              "      <td>0.76</td>\n",
              "    </tr>\n",
              "    <tr>\n",
              "      <th>2</th>\n",
              "      <td>316</td>\n",
              "      <td>104</td>\n",
              "      <td>3</td>\n",
              "      <td>3.0</td>\n",
              "      <td>3.5</td>\n",
              "      <td>8.00</td>\n",
              "      <td>1</td>\n",
              "      <td>0.72</td>\n",
              "    </tr>\n",
              "    <tr>\n",
              "      <th>3</th>\n",
              "      <td>322</td>\n",
              "      <td>110</td>\n",
              "      <td>3</td>\n",
              "      <td>3.5</td>\n",
              "      <td>2.5</td>\n",
              "      <td>8.67</td>\n",
              "      <td>1</td>\n",
              "      <td>0.80</td>\n",
              "    </tr>\n",
              "    <tr>\n",
              "      <th>4</th>\n",
              "      <td>314</td>\n",
              "      <td>103</td>\n",
              "      <td>2</td>\n",
              "      <td>2.0</td>\n",
              "      <td>3.0</td>\n",
              "      <td>8.21</td>\n",
              "      <td>0</td>\n",
              "      <td>0.65</td>\n",
              "    </tr>\n",
              "  </tbody>\n",
              "</table>\n",
              "</div>"
            ],
            "text/plain": [
              "   GRE_Score  TOEFL_Score  University_Rating  ...  CGPA  Research  Chance_of_Admit\n",
              "0        337          118                  4  ...  9.65         1             0.92\n",
              "1        324          107                  4  ...  8.87         1             0.76\n",
              "2        316          104                  3  ...  8.00         1             0.72\n",
              "3        322          110                  3  ...  8.67         1             0.80\n",
              "4        314          103                  2  ...  8.21         0             0.65\n",
              "\n",
              "[5 rows x 8 columns]"
            ]
          },
          "metadata": {
            "tags": []
          },
          "execution_count": 9
        }
      ]
    },
    {
      "cell_type": "code",
      "metadata": {
        "id": "DjibnqOWW-_f",
        "colab": {
          "base_uri": "https://localhost:8080/"
        },
        "outputId": "548e6872-2cbd-49e1-cdcf-efbc52a4df5a"
      },
      "source": [
        "# Vamos ver o Shape dos dados\n",
        "print('Shape:',df.shape)"
      ],
      "execution_count": null,
      "outputs": [
        {
          "output_type": "stream",
          "text": [
            "Shape: (500, 8)\n"
          ],
          "name": "stdout"
        }
      ]
    },
    {
      "cell_type": "markdown",
      "metadata": {
        "id": "Ll_2OraUX9L_"
      },
      "source": [
        "Temos aqui 500 linhas com 8 colunas, entretanto a última coluna é a coluna TARGET (ALVO)"
      ]
    },
    {
      "cell_type": "markdown",
      "metadata": {
        "id": "Zu2NE1nJcBHk"
      },
      "source": [
        "## Explorando o Dataset"
      ]
    },
    {
      "cell_type": "code",
      "metadata": {
        "id": "89ODcMlkE0pV",
        "colab": {
          "base_uri": "https://localhost:8080/"
        },
        "outputId": "300ff69a-2d84-40c8-9708-6071e7816a0f"
      },
      "source": [
        "# Vamos explorar os dados de resultado\n",
        "# Calculando a média da variável target\n",
        "media_esperada = df['Chance_of_Admit'].mean()\n",
        "media_esperada"
      ],
      "execution_count": null,
      "outputs": [
        {
          "output_type": "execute_result",
          "data": {
            "text/plain": [
              "0.7217399999999996"
            ]
          },
          "metadata": {
            "tags": []
          },
          "execution_count": 11
        }
      ]
    },
    {
      "cell_type": "code",
      "metadata": {
        "id": "xVEL-hgaE0pb",
        "colab": {
          "base_uri": "https://localhost:8080/"
        },
        "outputId": "d7370419-4c60-4a1e-d14b-12a2308f04bc"
      },
      "source": [
        "# Histograma do target\n",
        "df.hist(column='Chance_of_Admit')"
      ],
      "execution_count": null,
      "outputs": [
        {
          "output_type": "execute_result",
          "data": {
            "text/plain": [
              "array([[<matplotlib.axes._subplots.AxesSubplot object at 0x7f024e252400>]],\n",
              "      dtype=object)"
            ]
          },
          "metadata": {
            "tags": []
          },
          "execution_count": 12
        },
        {
          "output_type": "display_data",
          "data": {
            "image/png": "[encoded data removed]",
            "text/plain": [
              "<Figure size 432x288 with 1 Axes>"
            ]
          },
          "metadata": {
            "tags": [],
            "needs_background": "light"
          }
        }
      ]
    },
    {
      "cell_type": "code",
      "metadata": {
        "id": "Zw38DnySE0pf",
        "colab": {
          "base_uri": "https://localhost:8080/"
        },
        "outputId": "0bd6841c-17df-4dba-b2e2-1b2b87e51150"
      },
      "source": [
        "# Vamos plotar o DataFrame para ver se encontramos alguma correlação entre as variáveis que determinam o resultado\n",
        "df.plot()"
      ],
      "execution_count": null,
      "outputs": [
        {
          "output_type": "execute_result",
          "data": {
            "text/plain": [
              "<matplotlib.axes._subplots.AxesSubplot at 0x7f024e131470>"
            ]
          },
          "metadata": {
            "tags": []
          },
          "execution_count": 13
        },
        {
          "output_type": "display_data",
          "data": {
            "image/png": "[encoded data removed]",
            "text/plain": [
              "<Figure size 432x288 with 1 Axes>"
            ]
          },
          "metadata": {
            "tags": [],
            "needs_background": "light"
          }
        }
      ]
    },
    {
      "cell_type": "markdown",
      "metadata": {
        "id": "aIfXziicE0pk"
      },
      "source": [
        "Não foi possível encontrar uma relação. Vamos tentar de outra forma"
      ]
    },
    {
      "cell_type": "code",
      "metadata": {
        "id": "Vg3Wk1XlZkCv"
      },
      "source": [
        "# Criando uma função para plotar a correlação entre as variáveis\n",
        "def visualize_correlation_matrix(data, hurdle = 0.0):\n",
        "    R = np.corrcoef(data, rowvar = 0)\n",
        "    R[np.where(np.abs(R) < hurdle)] = 0.0\n",
        "    heatmap = plt.pcolor(R, cmap = mpl.cm.coolwarm, alpha = 0.8)\n",
        "    heatmap.axes.set_frame_on(False)\n",
        "    heatmap.axes.set_yticks(np.arange(R.shape[0]) + 0.5, minor = False)\n",
        "    heatmap.axes.set_xticks(np.arange(R.shape[1]) + 0.5, minor = False)\n",
        "    heatmap.axes.set_xticklabels(variables, minor = False)\n",
        "    plt.xticks(rotation=90)\n",
        "    heatmap.axes.set_yticklabels(variables, minor = False)\n",
        "    plt.tick_params(axis = 'both', which = 'both', bottom = False, top = False, left = False, right = False) \n",
        "    plt.colorbar()\n",
        "    plt.show()"
      ],
      "execution_count": null,
      "outputs": []
    },
    {
      "cell_type": "code",
      "metadata": {
        "id": "ZSd_DPLUZj57",
        "colab": {
          "base_uri": "https://localhost:8080/"
        },
        "outputId": "b7b8bde9-e816-42b2-cbbf-b508ff218b67"
      },
      "source": [
        "# Vamos gerar a matriz de correlação entre as variáveis\n",
        "matriz_corr = df.corr()\n",
        "observations = len(df)\n",
        "variables = df.columns\n",
        "visualize_correlation_matrix(df, hurdle = 0.5)"
      ],
      "execution_count": null,
      "outputs": [
        {
          "output_type": "display_data",
          "data": {
            "image/png": "[encoded data removed]",
            "text/plain": [
              "<Figure size 432x288 with 2 Axes>"
            ]
          },
          "metadata": {
            "tags": [],
            "needs_background": "light"
          }
        }
      ]
    },
    {
      "cell_type": "markdown",
      "metadata": {
        "id": "voNqJitpZ99R"
      },
      "source": [
        "Veja que as variáveis CGPA, GRE_Score e TOEFL_Score tem maior influência em Chance_of_Admit"
      ]
    },
    {
      "cell_type": "code",
      "metadata": {
        "id": "uLevJYH7aW7j"
      },
      "source": [
        "# Vamos separar as variáveis (X) do resultado (y)\n",
        "X = df.iloc[:,:-1]\n",
        "y = df['Chance_of_Admit'].values"
      ],
      "execution_count": null,
      "outputs": []
    },
    {
      "cell_type": "code",
      "metadata": {
        "id": "JyljRYozbK6z",
        "colab": {
          "base_uri": "https://localhost:8080/"
        },
        "outputId": "2239e08d-519f-487f-9996-a38398b63f06"
      },
      "source": [
        "# Imprimindo os primeiros valores de X\n",
        "X.head()"
      ],
      "execution_count": null,
      "outputs": [
        {
          "output_type": "execute_result",
          "data": {
            "text/html": [
              "<div>\n",
              "<style scoped>\n",
              "    .dataframe tbody tr th:only-of-type {\n",
              "        vertical-align: middle;\n",
              "    }\n",
              "\n",
              "    .dataframe tbody tr th {\n",
              "        vertical-align: top;\n",
              "    }\n",
              "\n",
              "    .dataframe thead th {\n",
              "        text-align: right;\n",
              "    }\n",
              "</style>\n",
              "<table border=\"1\" class=\"dataframe\">\n",
              "  <thead>\n",
              "    <tr style=\"text-align: right;\">\n",
              "      <th></th>\n",
              "      <th>GRE_Score</th>\n",
              "      <th>TOEFL_Score</th>\n",
              "      <th>University_Rating</th>\n",
              "      <th>SOP</th>\n",
              "      <th>LOR</th>\n",
              "      <th>CGPA</th>\n",
              "      <th>Research</th>\n",
              "    </tr>\n",
              "  </thead>\n",
              "  <tbody>\n",
              "    <tr>\n",
              "      <th>0</th>\n",
              "      <td>337</td>\n",
              "      <td>118</td>\n",
              "      <td>4</td>\n",
              "      <td>4.5</td>\n",
              "      <td>4.5</td>\n",
              "      <td>9.65</td>\n",
              "      <td>1</td>\n",
              "    </tr>\n",
              "    <tr>\n",
              "      <th>1</th>\n",
              "      <td>324</td>\n",
              "      <td>107</td>\n",
              "      <td>4</td>\n",
              "      <td>4.0</td>\n",
              "      <td>4.5</td>\n",
              "      <td>8.87</td>\n",
              "      <td>1</td>\n",
              "    </tr>\n",
              "    <tr>\n",
              "      <th>2</th>\n",
              "      <td>316</td>\n",
              "      <td>104</td>\n",
              "      <td>3</td>\n",
              "      <td>3.0</td>\n",
              "      <td>3.5</td>\n",
              "      <td>8.00</td>\n",
              "      <td>1</td>\n",
              "    </tr>\n",
              "    <tr>\n",
              "      <th>3</th>\n",
              "      <td>322</td>\n",
              "      <td>110</td>\n",
              "      <td>3</td>\n",
              "      <td>3.5</td>\n",
              "      <td>2.5</td>\n",
              "      <td>8.67</td>\n",
              "      <td>1</td>\n",
              "    </tr>\n",
              "    <tr>\n",
              "      <th>4</th>\n",
              "      <td>314</td>\n",
              "      <td>103</td>\n",
              "      <td>2</td>\n",
              "      <td>2.0</td>\n",
              "      <td>3.0</td>\n",
              "      <td>8.21</td>\n",
              "      <td>0</td>\n",
              "    </tr>\n",
              "  </tbody>\n",
              "</table>\n",
              "</div>"
            ],
            "text/plain": [
              "   GRE_Score  TOEFL_Score  University_Rating  SOP  LOR  CGPA  Research\n",
              "0        337          118                  4  4.5  4.5  9.65         1\n",
              "1        324          107                  4  4.0  4.5  8.87         1\n",
              "2        316          104                  3  3.0  3.5  8.00         1\n",
              "3        322          110                  3  3.5  2.5  8.67         1\n",
              "4        314          103                  2  2.0  3.0  8.21         0"
            ]
          },
          "metadata": {
            "tags": []
          },
          "execution_count": 17
        }
      ]
    },
    {
      "cell_type": "code",
      "metadata": {
        "id": "6-uq96WdbNBC",
        "colab": {
          "base_uri": "https://localhost:8080/"
        },
        "outputId": "96e5f29e-9f6f-4343-8c2e-3764f2aab223"
      },
      "source": [
        "# Imprimindo os 10 primeiros valores de y\n",
        "print(y[:10])"
      ],
      "execution_count": null,
      "outputs": [
        {
          "output_type": "stream",
          "text": [
            "[0.92 0.76 0.72 0.8  0.65 0.9  0.75 0.68 0.5  0.45]\n"
          ],
          "name": "stdout"
        }
      ]
    },
    {
      "cell_type": "code",
      "metadata": {
        "id": "1no2P8hPcqM6",
        "colab": {
          "base_uri": "https://localhost:8080/"
        },
        "outputId": "73c408bb-d460-42bb-d931-3be9e0bf6d5e"
      },
      "source": [
        "# Imprimindo o Shape de X e y\n",
        "print(X.shape)\n",
        "print(y.shape)"
      ],
      "execution_count": null,
      "outputs": [
        {
          "output_type": "stream",
          "text": [
            "(500, 7)\n",
            "(500,)\n"
          ],
          "name": "stdout"
        }
      ]
    },
    {
      "cell_type": "code",
      "metadata": {
        "id": "EQtFAcTtZ9bi",
        "colab": {
          "base_uri": "https://localhost:8080/"
        },
        "outputId": "ea2514c9-bdf3-4250-d85f-af6742a9e182"
      },
      "source": [
        "# Vamos agora calcular a covariância entre as variáveis\n",
        "import statsmodels.regression.linear_model as sm\n",
        "modelo_v1 = sm.OLS(y, X)\n",
        "modelo_v2 = modelo_v1.fit()\n",
        "modelo_v2.summary()"
      ],
      "execution_count": null,
      "outputs": [
        {
          "output_type": "stream",
          "text": [
            "/usr/local/lib/python3.6/dist-packages/statsmodels/tools/_testing.py:19: FutureWarning: pandas.util.testing is deprecated. Use the functions in the public API at pandas.testing instead.\n",
            "  import pandas.util.testing as tm\n"
          ],
          "name": "stderr"
        },
        {
          "output_type": "execute_result",
          "data": {
            "text/html": [
              "<table class=\"simpletable\">\n",
              "<caption>OLS Regression Results</caption>\n",
              "<tr>\n",
              "  <th>Dep. Variable:</th>            <td>y</td>        <th>  R-squared (uncentered):</th>      <td>   0.991</td>\n",
              "</tr>\n",
              "<tr>\n",
              "  <th>Model:</th>                   <td>OLS</td>       <th>  Adj. R-squared (uncentered):</th> <td>   0.991</td>\n",
              "</tr>\n",
              "<tr>\n",
              "  <th>Method:</th>             <td>Least Squares</td>  <th>  F-statistic:       </th>          <td>   8178.</td>\n",
              "</tr>\n",
              "<tr>\n",
              "  <th>Date:</th>             <td>Mon, 23 Nov 2020</td> <th>  Prob (F-statistic):</th>           <td>  0.00</td> \n",
              "</tr>\n",
              "<tr>\n",
              "  <th>Time:</th>                 <td>14:30:33</td>     <th>  Log-Likelihood:    </th>          <td>  635.01</td>\n",
              "</tr>\n",
              "<tr>\n",
              "  <th>No. Observations:</th>      <td>   500</td>      <th>  AIC:               </th>          <td>  -1256.</td>\n",
              "</tr>\n",
              "<tr>\n",
              "  <th>Df Residuals:</th>          <td>   493</td>      <th>  BIC:               </th>          <td>  -1227.</td>\n",
              "</tr>\n",
              "<tr>\n",
              "  <th>Df Model:</th>              <td>     7</td>      <th>                     </th>              <td> </td>   \n",
              "</tr>\n",
              "<tr>\n",
              "  <th>Covariance Type:</th>      <td>nonrobust</td>    <th>                     </th>              <td> </td>   \n",
              "</tr>\n",
              "</table>\n",
              "<table class=\"simpletable\">\n",
              "<tr>\n",
              "          <td></td>             <th>coef</th>     <th>std err</th>      <th>t</th>      <th>P>|t|</th>  <th>[0.025</th>    <th>0.975]</th>  \n",
              "</tr>\n",
              "<tr>\n",
              "  <th>GRE_Score</th>         <td>   -0.0030</td> <td>    0.000</td> <td>   -8.613</td> <td> 0.000</td> <td>   -0.004</td> <td>   -0.002</td>\n",
              "</tr>\n",
              "<tr>\n",
              "  <th>TOEFL_Score</th>       <td>    0.0033</td> <td>    0.001</td> <td>    3.342</td> <td> 0.001</td> <td>    0.001</td> <td>    0.005</td>\n",
              "</tr>\n",
              "<tr>\n",
              "  <th>University_Rating</th> <td>    0.0166</td> <td>    0.004</td> <td>    3.935</td> <td> 0.000</td> <td>    0.008</td> <td>    0.025</td>\n",
              "</tr>\n",
              "<tr>\n",
              "  <th>SOP</th>               <td>    0.0082</td> <td>    0.005</td> <td>    1.584</td> <td> 0.114</td> <td>   -0.002</td> <td>    0.018</td>\n",
              "</tr>\n",
              "<tr>\n",
              "  <th>LOR</th>               <td>    0.0171</td> <td>    0.005</td> <td>    3.622</td> <td> 0.000</td> <td>    0.008</td> <td>    0.026</td>\n",
              "</tr>\n",
              "<tr>\n",
              "  <th>CGPA</th>              <td>    0.1340</td> <td>    0.011</td> <td>   12.205</td> <td> 0.000</td> <td>    0.112</td> <td>    0.156</td>\n",
              "</tr>\n",
              "<tr>\n",
              "  <th>Research</th>          <td>    0.0561</td> <td>    0.007</td> <td>    8.099</td> <td> 0.000</td> <td>    0.042</td> <td>    0.070</td>\n",
              "</tr>\n",
              "</table>\n",
              "<table class=\"simpletable\">\n",
              "<tr>\n",
              "  <th>Omnibus:</th>       <td>79.089</td> <th>  Durbin-Watson:     </th> <td>   0.881</td>\n",
              "</tr>\n",
              "<tr>\n",
              "  <th>Prob(Omnibus):</th> <td> 0.000</td> <th>  Jarque-Bera (JB):  </th> <td> 128.537</td>\n",
              "</tr>\n",
              "<tr>\n",
              "  <th>Skew:</th>          <td>-0.979</td> <th>  Prob(JB):          </th> <td>1.23e-28</td>\n",
              "</tr>\n",
              "<tr>\n",
              "  <th>Kurtosis:</th>      <td> 4.529</td> <th>  Cond. No.          </th> <td>1.22e+03</td>\n",
              "</tr>\n",
              "</table><br/><br/>Warnings:<br/>[1] Standard Errors assume that the covariance matrix of the errors is correctly specified.<br/>[2] The condition number is large, 1.22e+03. This might indicate that there are<br/>strong multicollinearity or other numerical problems."
            ],
            "text/plain": [
              "<class 'statsmodels.iolib.summary.Summary'>\n",
              "\"\"\"\n",
              "                                 OLS Regression Results                                \n",
              "=======================================================================================\n",
              "Dep. Variable:                      y   R-squared (uncentered):                   0.991\n",
              "Model:                            OLS   Adj. R-squared (uncentered):              0.991\n",
              "Method:                 Least Squares   F-statistic:                              8178.\n",
              "Date:                Mon, 23 Nov 2020   Prob (F-statistic):                        0.00\n",
              "Time:                        14:30:33   Log-Likelihood:                          635.01\n",
              "No. Observations:                 500   AIC:                                     -1256.\n",
              "Df Residuals:                     493   BIC:                                     -1227.\n",
              "Df Model:                           7                                                  \n",
              "Covariance Type:            nonrobust                                                  \n",
              "=====================================================================================\n",
              "                        coef    std err          t      P>|t|      [0.025      0.975]\n",
              "-------------------------------------------------------------------------------------\n",
              "GRE_Score            -0.0030      0.000     -8.613      0.000      -0.004      -0.002\n",
              "TOEFL_Score           0.0033      0.001      3.342      0.001       0.001       0.005\n",
              "University_Rating     0.0166      0.004      3.935      0.000       0.008       0.025\n",
              "SOP                   0.0082      0.005      1.584      0.114      -0.002       0.018\n",
              "LOR                   0.0171      0.005      3.622      0.000       0.008       0.026\n",
              "CGPA                  0.1340      0.011     12.205      0.000       0.112       0.156\n",
              "Research              0.0561      0.007      8.099      0.000       0.042       0.070\n",
              "==============================================================================\n",
              "Omnibus:                       79.089   Durbin-Watson:                   0.881\n",
              "Prob(Omnibus):                  0.000   Jarque-Bera (JB):              128.537\n",
              "Skew:                          -0.979   Prob(JB):                     1.23e-28\n",
              "Kurtosis:                       4.529   Cond. No.                     1.22e+03\n",
              "==============================================================================\n",
              "\n",
              "Warnings:\n",
              "[1] Standard Errors assume that the covariance matrix of the errors is correctly specified.\n",
              "[2] The condition number is large, 1.22e+03. This might indicate that there are\n",
              "strong multicollinearity or other numerical problems.\n",
              "\"\"\""
            ]
          },
          "metadata": {
            "tags": []
          },
          "execution_count": 20
        }
      ]
    },
    {
      "cell_type": "markdown",
      "metadata": {
        "id": "kXXXcv2xapth"
      },
      "source": [
        "Explicação dos dados acima:\n",
        "\n",
        "* std err: O erro padrão básico da estimativa do coeficiente. \n",
        "* t: O valor da estatística t. Esta é uma medida de quão estatisticamente significativo é o coeficiente.\n",
        "* P> | t |: P-valor de que a hipótese nula de que o coeficiente = 0 é verdadeira. Se for menor que o nível de confiança, geralmente 0,05, indica que há uma relação estatisticamente significativa entre o termo e a resposta."
      ]
    },
    {
      "cell_type": "markdown",
      "metadata": {
        "id": "2V6MZUEybn2S"
      },
      "source": [
        "Podemos ver que CGPA é muito significativo"
      ]
    },
    {
      "cell_type": "markdown",
      "metadata": {
        "id": "ITjytDojcExC"
      },
      "source": [
        "## Regressão Linear com 1 variável"
      ]
    },
    {
      "cell_type": "code",
      "metadata": {
        "id": "x6jAeJ_2ZkFp",
        "colab": {
          "base_uri": "https://localhost:8080/",
          "height": 278
        },
        "outputId": "e09990ca-9b9b-4655-b1f9-d7b94d2ef749"
      },
      "source": [
        "# Vamos agora imprimir um scatter plot entre CGPA e o resultado (target)\n",
        "# Definindo o range dos valores de x e y\n",
        "VAR = 'CGPA'\n",
        "TARGET = 'Chance_of_Admit'\n",
        "x_range = [df[VAR].min(), df[VAR].max()]\n",
        "y_range = [df[TARGET].min(), df[TARGET].max()]\n",
        "# Plot dos valores de x e y com a média\n",
        "scatter_plot = df.plot(kind = 'scatter', x = VAR, y = TARGET, xlim = x_range, ylim = y_range)"
      ],
      "execution_count": null,
      "outputs": [
        {
          "output_type": "display_data",
          "data": {
            "image/png": "[encoded data removed]",
            "text/plain": [
              "<Figure size 432x288 with 1 Axes>"
            ]
          },
          "metadata": {
            "tags": [],
            "needs_background": "light"
          }
        }
      ]
    },
    {
      "cell_type": "code",
      "metadata": {
        "id": "o9R5er96wTXO",
        "colab": {
          "base_uri": "https://localhost:8080/"
        },
        "outputId": "d3e97f19-e214-4aa2-b1ce-c4635a0bd3b7"
      },
      "source": [
        "# Separando apenas a variável de interesse e fazendo o reshape\n",
        "X_1 = X[VAR].values.reshape((len(df), 1))\n",
        "print(X_1.shape)"
      ],
      "execution_count": null,
      "outputs": [
        {
          "output_type": "stream",
          "text": [
            "(500, 1)\n"
          ],
          "name": "stdout"
        }
      ]
    },
    {
      "cell_type": "code",
      "metadata": {
        "id": "l8d7UzjTZkIt",
        "colab": {
          "base_uri": "https://localhost:8080/"
        },
        "outputId": "f45168f4-4ed0-4ccd-cf81-6fd1727cc840"
      },
      "source": [
        "# Separação entre os dados de treino e teste\n",
        "from sklearn.model_selection import train_test_split\n",
        "X_train, X_test, y_train, y_test = train_test_split (X_1 , y, test_size=0.2, random_state=50)\n",
        "print('X_train:',X_train.shape)\n",
        "print('y_train:',y_train.shape)\n",
        "print('X_test:',X_test.shape)\n",
        "print('y_test:',y_test.shape)"
      ],
      "execution_count": null,
      "outputs": [
        {
          "output_type": "stream",
          "text": [
            "X_train: (400, 1)\n",
            "y_train: (400,)\n",
            "X_test: (100, 1)\n",
            "y_test: (100,)\n"
          ],
          "name": "stdout"
        }
      ]
    },
    {
      "cell_type": "code",
      "metadata": {
        "id": "lisRbRWsZkLt",
        "colab": {
          "base_uri": "https://localhost:8080/"
        },
        "outputId": "52e974fe-f770-4924-c78c-3b020d0c3a5c"
      },
      "source": [
        "# Linear Regression\n",
        "from sklearn.linear_model import LinearRegression\n",
        "lin_reg = LinearRegression()\n",
        "\n",
        "# Agora efetivamente treinamos o modelo com fit()\n",
        "lin_reg.fit(X_train, y_train)"
      ],
      "execution_count": null,
      "outputs": [
        {
          "output_type": "execute_result",
          "data": {
            "text/plain": [
              "LinearRegression(copy_X=True, fit_intercept=True, n_jobs=None, normalize=False)"
            ]
          },
          "metadata": {
            "tags": []
          },
          "execution_count": 24
        }
      ]
    },
    {
      "cell_type": "code",
      "metadata": {
        "id": "xeoT6MQvE0pl",
        "colab": {
          "base_uri": "https://localhost:8080/"
        },
        "outputId": "d6876613-075f-4ae5-b56a-8e2f30f0c71b"
      },
      "source": [
        "# prevendo valores para X_test\n",
        "y_pred = lin_reg.predict(X_test)\n",
        "print('Shape y_pred:',y_pred.shape)"
      ],
      "execution_count": null,
      "outputs": [
        {
          "output_type": "stream",
          "text": [
            "Shape y_pred: (100,)\n"
          ],
          "name": "stdout"
        }
      ]
    },
    {
      "cell_type": "code",
      "metadata": {
        "id": "lP6ykfZsenmG",
        "colab": {
          "base_uri": "https://localhost:8080/"
        },
        "outputId": "61215f06-934e-46b6-b635-775df509a44e"
      },
      "source": [
        "# Medidas de desempenho\n",
        "from sklearn.metrics import mean_squared_error,mean_absolute_error,r2_score\n",
        "print(\"Mean Squared Error (MSE):\",mean_squared_error(y_pred,y_test))\n",
        "print(\"Mean Absolute Error (MAE):\",mean_absolute_error(y_pred,y_test))\n",
        "print(\"Score R2:\",r2_score(y_pred,y_test))"
      ],
      "execution_count": null,
      "outputs": [
        {
          "output_type": "stream",
          "text": [
            "Mean Squared Error (MSE): 0.004390763141599453\n",
            "Mean Absolute Error (MAE): 0.04693610614269898\n",
            "Score R2: 0.7284012605253238\n"
          ],
          "name": "stdout"
        }
      ]
    },
    {
      "cell_type": "code",
      "metadata": {
        "id": "a4w3dZvzfWlR",
        "colab": {
          "base_uri": "https://localhost:8080/",
          "height": 278
        },
        "outputId": "7971c810-da31-4437-8d35-3fb0e3f1d797"
      },
      "source": [
        "# Plotando a linha de regressão para todos os dados\n",
        "\n",
        "# Prevendo os valores de y para todos os dados\n",
        "y_pred_all = lin_reg.predict(X_1)\n",
        "\n",
        "# Primeira camada do Scatter Plot\n",
        "scatter_plot = df.plot(kind = 'scatter', x = VAR, y = TARGET, xlim = x_range, ylim = y_range)\n",
        "\n",
        "# Segunda camada do Scatter Plot (linha de regressão)\n",
        "regression_line = scatter_plot.plot(df[VAR], y_pred_all, 'o', color = 'orange', linewidth = 2)"
      ],
      "execution_count": null,
      "outputs": [
        {
          "output_type": "display_data",
          "data": {
            "image/png": "[encoded data removed]",
            "text/plain": [
              "<Figure size 432x288 with 1 Axes>"
            ]
          },
          "metadata": {
            "tags": [],
            "needs_background": "light"
          }
        }
      ]
    },
    {
      "cell_type": "markdown",
      "metadata": {
        "id": "CCdnmIW3fGH-"
      },
      "source": [
        "## Regressão Linear com mais variáveis"
      ]
    },
    {
      "cell_type": "code",
      "metadata": {
        "id": "vlCrqj1Nentt",
        "colab": {
          "base_uri": "https://localhost:8080/"
        },
        "outputId": "3d4943a3-1f6b-44f0-d266-1a143a2ad112"
      },
      "source": [
        "# Vamos utilizar 3 variáveis\n",
        "VAR = ['CGPA', 'GRE_Score', 'TOEFL_Score']\n",
        "X_2 = X[VAR].values.reshape((len(df), 3))\n",
        "print(X_2.shape)"
      ],
      "execution_count": null,
      "outputs": [
        {
          "output_type": "stream",
          "text": [
            "(500, 3)\n"
          ],
          "name": "stdout"
        }
      ]
    },
    {
      "cell_type": "code",
      "metadata": {
        "id": "__k7flu7enzQ",
        "colab": {
          "base_uri": "https://localhost:8080/"
        },
        "outputId": "43c09fb7-f335-4f8e-a08f-df5da16512ac"
      },
      "source": [
        "# Separação entre os dados de treino e teste\n",
        "from sklearn.model_selection import train_test_split\n",
        "X_train, X_test, y_train, y_test = train_test_split (X_2 , y, test_size=0.2, random_state=50)\n",
        "print('X_train:',X_train.shape)\n",
        "print('y_train:',y_train.shape)\n",
        "print('X_test:',X_test.shape)\n",
        "print('y_test:',y_test.shape)"
      ],
      "execution_count": null,
      "outputs": [
        {
          "output_type": "stream",
          "text": [
            "X_train: (400, 3)\n",
            "y_train: (400,)\n",
            "X_test: (100, 3)\n",
            "y_test: (100,)\n"
          ],
          "name": "stdout"
        }
      ]
    },
    {
      "cell_type": "code",
      "metadata": {
        "id": "ds8JQcvdenxS",
        "colab": {
          "base_uri": "https://localhost:8080/"
        },
        "outputId": "4cf3c4e0-9906-4487-abad-84733af59deb"
      },
      "source": [
        "# Linear Regression\n",
        "from sklearn.linear_model import LinearRegression\n",
        "\n",
        "lin_reg = LinearRegression()\n",
        "\n",
        "#Agora efetivamente treinado o modelo com fit()\n",
        "lin_reg.fit(X_train, y_train)\n",
        "\n",
        "# prevendo valores para X_test\n",
        "y_pred = lin_reg.predict(X_test)\n",
        "print('Shape y_pred:',y_pred.shape)"
      ],
      "execution_count": null,
      "outputs": [
        {
          "output_type": "stream",
          "text": [
            "Shape y_pred: (100,)\n"
          ],
          "name": "stdout"
        }
      ]
    },
    {
      "cell_type": "code",
      "metadata": {
        "id": "wk_FSve2enro",
        "colab": {
          "base_uri": "https://localhost:8080/"
        },
        "outputId": "622f4f01-7015-4c50-8300-b9225061d227"
      },
      "source": [
        "# Medidas de desempenho\n",
        "from sklearn.metrics import mean_squared_error,mean_absolute_error,r2_score\n",
        "print(\"Mean Squared Error (MSE):\",mean_squared_error(y_pred,y_test))\n",
        "print(\"Mean Absolute Error (MAE):\",mean_absolute_error(y_pred,y_test))\n",
        "print(\"Score R2:\",r2_score(y_pred,y_test))"
      ],
      "execution_count": null,
      "outputs": [
        {
          "output_type": "stream",
          "text": [
            "Mean Squared Error (MSE): 0.0037164381231652357\n",
            "Mean Absolute Error (MAE): 0.043273487627415855\n",
            "Score R2: 0.7770388292729522\n"
          ],
          "name": "stdout"
        }
      ]
    },
    {
      "cell_type": "markdown",
      "metadata": {
        "id": "hoyN0H3zzMje"
      },
      "source": [
        "Veja que o uso de mais variáveis melhorou o modelo, pois o valor de R2 aumentou e os erros médios diminuíram. "
      ]
    },
    {
      "cell_type": "markdown",
      "metadata": {
        "id": "xCIm7dpRyTZP"
      },
      "source": [
        "# Exercício 01 (Aula05_Parte1)\n",
        "\n",
        "Você viu acima que o uso de mais variáveis na regressão linear melhorou o modelo.\n",
        "\n",
        "Adicione novas células de código abaixo e implemente um modelo de Regressão Linear que utilize todas as variáveis do dataset para prever a variável TARGET.\n",
        "\n",
        "Crie também uma célula de código para imprimir os valores de MSE, MAE e R2\n",
        "\n",
        "Finalmente, crie uma célula de Texto para responder se o resultado foi melhor ou pior.\n",
        "\n",
        "Obs: Antes de entregar seu notebook, verifique se o mesmo está funcionando adequadamente com o menu \"Ambiente de Execução > Reiniciar e executar tudo\".\n",
        "\n",
        "Salve o arquivo .ipynb com a opção \"Arquivo > Fazer download do .ipynb\" e poste pelo Ulife"
      ]
    },
    {
      "cell_type": "markdown",
      "metadata": {
        "id": "dpN5gcTDhC8f"
      },
      "source": [
        "## Regressão Linear com 7 variável"
      ]
    },
    {
      "cell_type": "markdown",
      "metadata": {
        "id": "I19gx0fZOaRY"
      },
      "source": [
        "Regressão Linear com todas variáveis"
      ]
    },
    {
      "cell_type": "code",
      "metadata": {
        "id": "IyD6nDF4r0hN",
        "colab": {
          "base_uri": "https://localhost:8080/"
        },
        "outputId": "60dd2332-b8cd-4359-a1cf-5945a08bb774"
      },
      "source": [
        "# Vamos utilizar 7 variáveis\n",
        "VAR = ['CGPA', 'GRE_Score', 'TOEFL_Score','University_Rating','SOP','LOR','Research']\n",
        "X_2 = X[VAR].values.reshape((len(df), 7))\n",
        "print(X_2.shape)"
      ],
      "execution_count": null,
      "outputs": [
        {
          "output_type": "stream",
          "text": [
            "(500, 7)\n"
          ],
          "name": "stdout"
        }
      ]
    },
    {
      "cell_type": "code",
      "metadata": {
        "id": "Qb9-8rFTO9t9",
        "colab": {
          "base_uri": "https://localhost:8080/"
        },
        "outputId": "93720a0f-7be6-443e-b1c2-4bcde3ebd2f8"
      },
      "source": [
        "# Separação entre os dados de treino e teste\n",
        "from sklearn.model_selection import train_test_split\n",
        "X_train, X_test, y_train, y_test = train_test_split (X_2 , y, test_size=0.2, random_state=50)\n",
        "print('X_train:',X_train.shape)\n",
        "print('y_train:',y_train.shape)\n",
        "print('X_test:',X_test.shape)\n",
        "print('y_test:',y_test.shape)"
      ],
      "execution_count": null,
      "outputs": [
        {
          "output_type": "stream",
          "text": [
            "X_train: (400, 7)\n",
            "y_train: (400,)\n",
            "X_test: (100, 7)\n",
            "y_test: (100,)\n"
          ],
          "name": "stdout"
        }
      ]
    },
    {
      "cell_type": "code",
      "metadata": {
        "id": "zW54LLPSOyYQ",
        "colab": {
          "base_uri": "https://localhost:8080/"
        },
        "outputId": "94be6062-b2bf-4541-d982-1b155b943189"
      },
      "source": [
        "# Linear Regression\n",
        "from sklearn.linear_model import LinearRegression\n",
        "\n",
        "lin_reg = LinearRegression()\n",
        "\n",
        "#Agora efetivamente treinado o modelo com fit()\n",
        "lin_reg.fit(X_train, y_train)"
      ],
      "execution_count": null,
      "outputs": [
        {
          "output_type": "execute_result",
          "data": {
            "text/plain": [
              "LinearRegression(copy_X=True, fit_intercept=True, n_jobs=None, normalize=False)"
            ]
          },
          "metadata": {
            "tags": []
          },
          "execution_count": 73
        }
      ]
    },
    {
      "cell_type": "code",
      "metadata": {
        "id": "ZndAYOrHQzgO",
        "colab": {
          "base_uri": "https://localhost:8080/"
        },
        "outputId": "ec86eac4-127c-4acb-d82e-289f53919c00"
      },
      "source": [
        "# prevendo valores para X_test\n",
        "y_pred = lin_reg.predict(X_test)\n",
        "print('Shape y_pred:',y_pred.shape)"
      ],
      "execution_count": null,
      "outputs": [
        {
          "output_type": "stream",
          "text": [
            "Shape y_pred: (100,)\n"
          ],
          "name": "stdout"
        }
      ]
    },
    {
      "cell_type": "code",
      "metadata": {
        "id": "pnLPf3SKQ00h",
        "colab": {
          "base_uri": "https://localhost:8080/"
        },
        "outputId": "a6b4abbc-4d4f-45f3-bdde-b45322b827b3"
      },
      "source": [
        "# Medidas de desempenho\n",
        "from sklearn.metrics import mean_squared_error,mean_absolute_error,r2_score\n",
        "print(\"Mean Squared Error (MSE):\",mean_squared_error(y_pred,y_test))\n",
        "print(\"Mean Absolute Error (MAE):\",mean_absolute_error(y_pred,y_test))\n",
        "print(\"Score R2:\",r2_score(y_pred,y_test))"
      ],
      "execution_count": null,
      "outputs": [
        {
          "output_type": "stream",
          "text": [
            "Mean Squared Error (MSE): 0.003240929632311132\n",
            "Mean Absolute Error (MAE): 0.04040078799417792\n",
            "Score R2: 0.8206313959741894\n"
          ],
          "name": "stdout"
        }
      ]
    },
    {
      "cell_type": "markdown",
      "metadata": {
        "id": "GIBeSBpRfst0"
      },
      "source": [
        "O uso de mais variáveis melhorou bem mais o modelo, pois o valor de R2 aumentou de 0,77 para 0,82. "
      ]
    },
    {
      "cell_type": "markdown",
      "metadata": {
        "id": "zC7ziscPE0qi"
      },
      "source": [
        "FIM"
      ]
    }
  ]
}