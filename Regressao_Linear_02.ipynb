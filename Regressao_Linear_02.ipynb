{
  "nbformat": 4,
  "nbformat_minor": 0,
  "metadata": {
    "kernelspec": {
      "display_name": "Python 3",
      "language": "python",
      "name": "python3"
    },
    "language_info": {
      "codemirror_mode": {
        "name": "ipython",
        "version": 3
      },
      "file_extension": ".py",
      "mimetype": "text/x-python",
      "name": "python",
      "nbconvert_exporter": "python",
      "pygments_lexer": "ipython3",
      "version": "3.6.5"
    },
    "colab": {
      "name": "Regressao_Linear_02.ipynb",
      "provenance": [],
      "collapsed_sections": []
    }
  },
  "cells": [
    {
      "cell_type": "markdown",
      "metadata": {
        "id": "gkOlO6XIE0pA"
      },
      "source": [
        "## Regressao Linear 02\n",
        "\n",
        "### Disciplina Inteligência Artificial\n",
        "\n",
        "Neste jupyter vamos criar um modelo de regressão linear para estimar o valor de um imóvel na cidade de Boston (EUA)\n",
        "\n",
        "Dataset: https://www.cs.toronto.edu/~delve/data/boston/bostonDetail.html\n"
      ]
    },
    {
      "cell_type": "markdown",
      "metadata": {
        "id": "Con_ALtcAwIx"
      },
      "source": [
        "## Carregando e Explorando o Dataset"
      ]
    },
    {
      "cell_type": "code",
      "metadata": {
        "id": "M_xElfg0E0pB"
      },
      "source": [
        "# Carregando o Dataset Boston Houses a partir do pacote sklearn\n",
        "from sklearn.datasets import load_boston\n",
        "boston = load_boston()"
      ],
      "execution_count": null,
      "outputs": []
    },
    {
      "cell_type": "code",
      "metadata": {
        "id": "fAVEKfNPE0pI"
      },
      "source": [
        "# Carregando Bibliotecas Python\n",
        "import numpy as np\n",
        "import pandas as pd\n",
        "import matplotlib.pyplot as plt\n",
        "import matplotlib as mpl\n",
        "%matplotlib inline"
      ],
      "execution_count": null,
      "outputs": []
    },
    {
      "cell_type": "code",
      "metadata": {
        "id": "BrJgCY4OE0pM"
      },
      "source": [
        "# Convertendo o dataset para um DataFrame com Pandas\n",
        "df = pd.DataFrame(boston.data, columns = boston.feature_names)\n",
        "df['target'] = boston.target"
      ],
      "execution_count": null,
      "outputs": []
    },
    {
      "cell_type": "code",
      "metadata": {
        "id": "zT0v8hjeE0pQ",
        "colab": {
          "base_uri": "https://localhost:8080/",
          "height": 200
        },
        "outputId": "44d811f7-9987-49bb-9478-e08e0b0ecf68"
      },
      "source": [
        "# Vamos conhecer seu conteúdo\n",
        "df.head(5)"
      ],
      "execution_count": null,
      "outputs": [
        {
          "output_type": "execute_result",
          "data": {
            "text/html": [
              "<div>\n",
              "<style scoped>\n",
              "    .dataframe tbody tr th:only-of-type {\n",
              "        vertical-align: middle;\n",
              "    }\n",
              "\n",
              "    .dataframe tbody tr th {\n",
              "        vertical-align: top;\n",
              "    }\n",
              "\n",
              "    .dataframe thead th {\n",
              "        text-align: right;\n",
              "    }\n",
              "</style>\n",
              "<table border=\"1\" class=\"dataframe\">\n",
              "  <thead>\n",
              "    <tr style=\"text-align: right;\">\n",
              "      <th></th>\n",
              "      <th>CRIM</th>\n",
              "      <th>ZN</th>\n",
              "      <th>INDUS</th>\n",
              "      <th>CHAS</th>\n",
              "      <th>NOX</th>\n",
              "      <th>RM</th>\n",
              "      <th>AGE</th>\n",
              "      <th>DIS</th>\n",
              "      <th>RAD</th>\n",
              "      <th>TAX</th>\n",
              "      <th>PTRATIO</th>\n",
              "      <th>B</th>\n",
              "      <th>LSTAT</th>\n",
              "      <th>target</th>\n",
              "    </tr>\n",
              "  </thead>\n",
              "  <tbody>\n",
              "    <tr>\n",
              "      <th>0</th>\n",
              "      <td>0.00632</td>\n",
              "      <td>18.0</td>\n",
              "      <td>2.31</td>\n",
              "      <td>0.0</td>\n",
              "      <td>0.538</td>\n",
              "      <td>6.575</td>\n",
              "      <td>65.2</td>\n",
              "      <td>4.0900</td>\n",
              "      <td>1.0</td>\n",
              "      <td>296.0</td>\n",
              "      <td>15.3</td>\n",
              "      <td>396.90</td>\n",
              "      <td>4.98</td>\n",
              "      <td>24.0</td>\n",
              "    </tr>\n",
              "    <tr>\n",
              "      <th>1</th>\n",
              "      <td>0.02731</td>\n",
              "      <td>0.0</td>\n",
              "      <td>7.07</td>\n",
              "      <td>0.0</td>\n",
              "      <td>0.469</td>\n",
              "      <td>6.421</td>\n",
              "      <td>78.9</td>\n",
              "      <td>4.9671</td>\n",
              "      <td>2.0</td>\n",
              "      <td>242.0</td>\n",
              "      <td>17.8</td>\n",
              "      <td>396.90</td>\n",
              "      <td>9.14</td>\n",
              "      <td>21.6</td>\n",
              "    </tr>\n",
              "    <tr>\n",
              "      <th>2</th>\n",
              "      <td>0.02729</td>\n",
              "      <td>0.0</td>\n",
              "      <td>7.07</td>\n",
              "      <td>0.0</td>\n",
              "      <td>0.469</td>\n",
              "      <td>7.185</td>\n",
              "      <td>61.1</td>\n",
              "      <td>4.9671</td>\n",
              "      <td>2.0</td>\n",
              "      <td>242.0</td>\n",
              "      <td>17.8</td>\n",
              "      <td>392.83</td>\n",
              "      <td>4.03</td>\n",
              "      <td>34.7</td>\n",
              "    </tr>\n",
              "    <tr>\n",
              "      <th>3</th>\n",
              "      <td>0.03237</td>\n",
              "      <td>0.0</td>\n",
              "      <td>2.18</td>\n",
              "      <td>0.0</td>\n",
              "      <td>0.458</td>\n",
              "      <td>6.998</td>\n",
              "      <td>45.8</td>\n",
              "      <td>6.0622</td>\n",
              "      <td>3.0</td>\n",
              "      <td>222.0</td>\n",
              "      <td>18.7</td>\n",
              "      <td>394.63</td>\n",
              "      <td>2.94</td>\n",
              "      <td>33.4</td>\n",
              "    </tr>\n",
              "    <tr>\n",
              "      <th>4</th>\n",
              "      <td>0.06905</td>\n",
              "      <td>0.0</td>\n",
              "      <td>2.18</td>\n",
              "      <td>0.0</td>\n",
              "      <td>0.458</td>\n",
              "      <td>7.147</td>\n",
              "      <td>54.2</td>\n",
              "      <td>6.0622</td>\n",
              "      <td>3.0</td>\n",
              "      <td>222.0</td>\n",
              "      <td>18.7</td>\n",
              "      <td>396.90</td>\n",
              "      <td>5.33</td>\n",
              "      <td>36.2</td>\n",
              "    </tr>\n",
              "  </tbody>\n",
              "</table>\n",
              "</div>"
            ],
            "text/plain": [
              "      CRIM    ZN  INDUS  CHAS    NOX  ...    TAX  PTRATIO       B  LSTAT  target\n",
              "0  0.00632  18.0   2.31   0.0  0.538  ...  296.0     15.3  396.90   4.98    24.0\n",
              "1  0.02731   0.0   7.07   0.0  0.469  ...  242.0     17.8  396.90   9.14    21.6\n",
              "2  0.02729   0.0   7.07   0.0  0.469  ...  242.0     17.8  392.83   4.03    34.7\n",
              "3  0.03237   0.0   2.18   0.0  0.458  ...  222.0     18.7  394.63   2.94    33.4\n",
              "4  0.06905   0.0   2.18   0.0  0.458  ...  222.0     18.7  396.90   5.33    36.2\n",
              "\n",
              "[5 rows x 14 columns]"
            ]
          },
          "metadata": {
            "tags": []
          },
          "execution_count": 27
        }
      ]
    },
    {
      "cell_type": "code",
      "metadata": {
        "id": "89ODcMlkE0pV",
        "colab": {
          "base_uri": "https://localhost:8080/"
        },
        "outputId": "c3b97d85-b661-403c-b4e7-5f358ec2c42f"
      },
      "source": [
        "# Vamos explorar os dados de resultado\n",
        "# Calculando a média da variável target\n",
        "media_esperada = df['target'].mean()\n",
        "media_esperada"
      ],
      "execution_count": null,
      "outputs": [
        {
          "output_type": "execute_result",
          "data": {
            "text/plain": [
              "22.532806324110698"
            ]
          },
          "metadata": {
            "tags": []
          },
          "execution_count": 28
        }
      ]
    },
    {
      "cell_type": "code",
      "metadata": {
        "id": "xVEL-hgaE0pb",
        "colab": {
          "base_uri": "https://localhost:8080/",
          "height": 316
        },
        "outputId": "253d8cb1-62da-437a-bd02-01bf4979cc07"
      },
      "source": [
        "# Histograma do target\n",
        "df.hist(column='target')"
      ],
      "execution_count": null,
      "outputs": [
        {
          "output_type": "execute_result",
          "data": {
            "text/plain": [
              "array([[<matplotlib.axes._subplots.AxesSubplot object at 0x7f26ba268f60>]],\n",
              "      dtype=object)"
            ]
          },
          "metadata": {
            "tags": []
          },
          "execution_count": 29
        },
        {
          "output_type": "display_data",
          "data": {
            "image/png": "[encoded data removed]",
            "text/plain": [
              "<Figure size 432x288 with 1 Axes>"
            ]
          },
          "metadata": {
            "tags": [],
            "needs_background": "light"
          }
        }
      ]
    },
    {
      "cell_type": "code",
      "metadata": {
        "id": "Zw38DnySE0pf",
        "colab": {
          "base_uri": "https://localhost:8080/",
          "height": 283
        },
        "outputId": "aa1bea89-4e38-4042-aeae-d1844620fac5"
      },
      "source": [
        "# Vamos plotar o DataFrame para ver se encontramos alguma correlação entre as variáveis que determinam o resultado\n",
        "df.plot()"
      ],
      "execution_count": null,
      "outputs": [
        {
          "output_type": "execute_result",
          "data": {
            "text/plain": [
              "<matplotlib.axes._subplots.AxesSubplot at 0x7f26b2181eb8>"
            ]
          },
          "metadata": {
            "tags": []
          },
          "execution_count": 30
        },
        {
          "output_type": "display_data",
          "data": {
            "image/png": "[encoded data removed]",
            "text/plain": [
              "<Figure size 432x288 with 1 Axes>"
            ]
          },
          "metadata": {
            "tags": [],
            "needs_background": "light"
          }
        }
      ]
    },
    {
      "cell_type": "markdown",
      "metadata": {
        "id": "aIfXziicE0pk"
      },
      "source": [
        "Não foi possível encontrar uma relação. Vamos tentar de outra forma"
      ]
    },
    {
      "cell_type": "code",
      "metadata": {
        "id": "xeoT6MQvE0pl"
      },
      "source": [
        "# Primeiro devemos separar as variáveis (X) do resultado (y)\n",
        "X = df.iloc[:,:-1]\n",
        "y = df['target'].values"
      ],
      "execution_count": null,
      "outputs": []
    },
    {
      "cell_type": "code",
      "metadata": {
        "id": "JM5hBvIWE0pp",
        "colab": {
          "base_uri": "https://localhost:8080/",
          "height": 200
        },
        "outputId": "61c5a59f-cd26-44d2-8bc3-5e2a4f24d372"
      },
      "source": [
        "X.head()"
      ],
      "execution_count": null,
      "outputs": [
        {
          "output_type": "execute_result",
          "data": {
            "text/html": [
              "<div>\n",
              "<style scoped>\n",
              "    .dataframe tbody tr th:only-of-type {\n",
              "        vertical-align: middle;\n",
              "    }\n",
              "\n",
              "    .dataframe tbody tr th {\n",
              "        vertical-align: top;\n",
              "    }\n",
              "\n",
              "    .dataframe thead th {\n",
              "        text-align: right;\n",
              "    }\n",
              "</style>\n",
              "<table border=\"1\" class=\"dataframe\">\n",
              "  <thead>\n",
              "    <tr style=\"text-align: right;\">\n",
              "      <th></th>\n",
              "      <th>CRIM</th>\n",
              "      <th>ZN</th>\n",
              "      <th>INDUS</th>\n",
              "      <th>CHAS</th>\n",
              "      <th>NOX</th>\n",
              "      <th>RM</th>\n",
              "      <th>AGE</th>\n",
              "      <th>DIS</th>\n",
              "      <th>RAD</th>\n",
              "      <th>TAX</th>\n",
              "      <th>PTRATIO</th>\n",
              "      <th>B</th>\n",
              "      <th>LSTAT</th>\n",
              "    </tr>\n",
              "  </thead>\n",
              "  <tbody>\n",
              "    <tr>\n",
              "      <th>0</th>\n",
              "      <td>0.00632</td>\n",
              "      <td>18.0</td>\n",
              "      <td>2.31</td>\n",
              "      <td>0.0</td>\n",
              "      <td>0.538</td>\n",
              "      <td>6.575</td>\n",
              "      <td>65.2</td>\n",
              "      <td>4.0900</td>\n",
              "      <td>1.0</td>\n",
              "      <td>296.0</td>\n",
              "      <td>15.3</td>\n",
              "      <td>396.90</td>\n",
              "      <td>4.98</td>\n",
              "    </tr>\n",
              "    <tr>\n",
              "      <th>1</th>\n",
              "      <td>0.02731</td>\n",
              "      <td>0.0</td>\n",
              "      <td>7.07</td>\n",
              "      <td>0.0</td>\n",
              "      <td>0.469</td>\n",
              "      <td>6.421</td>\n",
              "      <td>78.9</td>\n",
              "      <td>4.9671</td>\n",
              "      <td>2.0</td>\n",
              "      <td>242.0</td>\n",
              "      <td>17.8</td>\n",
              "      <td>396.90</td>\n",
              "      <td>9.14</td>\n",
              "    </tr>\n",
              "    <tr>\n",
              "      <th>2</th>\n",
              "      <td>0.02729</td>\n",
              "      <td>0.0</td>\n",
              "      <td>7.07</td>\n",
              "      <td>0.0</td>\n",
              "      <td>0.469</td>\n",
              "      <td>7.185</td>\n",
              "      <td>61.1</td>\n",
              "      <td>4.9671</td>\n",
              "      <td>2.0</td>\n",
              "      <td>242.0</td>\n",
              "      <td>17.8</td>\n",
              "      <td>392.83</td>\n",
              "      <td>4.03</td>\n",
              "    </tr>\n",
              "    <tr>\n",
              "      <th>3</th>\n",
              "      <td>0.03237</td>\n",
              "      <td>0.0</td>\n",
              "      <td>2.18</td>\n",
              "      <td>0.0</td>\n",
              "      <td>0.458</td>\n",
              "      <td>6.998</td>\n",
              "      <td>45.8</td>\n",
              "      <td>6.0622</td>\n",
              "      <td>3.0</td>\n",
              "      <td>222.0</td>\n",
              "      <td>18.7</td>\n",
              "      <td>394.63</td>\n",
              "      <td>2.94</td>\n",
              "    </tr>\n",
              "    <tr>\n",
              "      <th>4</th>\n",
              "      <td>0.06905</td>\n",
              "      <td>0.0</td>\n",
              "      <td>2.18</td>\n",
              "      <td>0.0</td>\n",
              "      <td>0.458</td>\n",
              "      <td>7.147</td>\n",
              "      <td>54.2</td>\n",
              "      <td>6.0622</td>\n",
              "      <td>3.0</td>\n",
              "      <td>222.0</td>\n",
              "      <td>18.7</td>\n",
              "      <td>396.90</td>\n",
              "      <td>5.33</td>\n",
              "    </tr>\n",
              "  </tbody>\n",
              "</table>\n",
              "</div>"
            ],
            "text/plain": [
              "      CRIM    ZN  INDUS  CHAS    NOX  ...  RAD    TAX  PTRATIO       B  LSTAT\n",
              "0  0.00632  18.0   2.31   0.0  0.538  ...  1.0  296.0     15.3  396.90   4.98\n",
              "1  0.02731   0.0   7.07   0.0  0.469  ...  2.0  242.0     17.8  396.90   9.14\n",
              "2  0.02729   0.0   7.07   0.0  0.469  ...  2.0  242.0     17.8  392.83   4.03\n",
              "3  0.03237   0.0   2.18   0.0  0.458  ...  3.0  222.0     18.7  394.63   2.94\n",
              "4  0.06905   0.0   2.18   0.0  0.458  ...  3.0  222.0     18.7  396.90   5.33\n",
              "\n",
              "[5 rows x 13 columns]"
            ]
          },
          "metadata": {
            "tags": []
          },
          "execution_count": 32
        }
      ]
    },
    {
      "cell_type": "code",
      "metadata": {
        "id": "KcahiKBrE0pt",
        "colab": {
          "base_uri": "https://localhost:8080/",
          "height": 681
        },
        "outputId": "cd212c66-a8e5-4c10-9952-aae03b92cb34"
      },
      "source": [
        "# Uma forma de escolher uma variável para fazer a correlação é utilizando o pacote statsmodel.\n",
        "# Vamos agora calcular a covariância entre as variáveis\n",
        "import statsmodels.regression.linear_model as sm\n",
        "\n",
        "modelo_v1 = sm.OLS(y, X)\n",
        "modelo_v2 = modelo_v1.fit()\n",
        "modelo_v2.summary()"
      ],
      "execution_count": null,
      "outputs": [
        {
          "output_type": "execute_result",
          "data": {
            "text/html": [
              "<table class=\"simpletable\">\n",
              "<caption>OLS Regression Results</caption>\n",
              "<tr>\n",
              "  <th>Dep. Variable:</th>            <td>y</td>        <th>  R-squared (uncentered):</th>      <td>   0.959</td>\n",
              "</tr>\n",
              "<tr>\n",
              "  <th>Model:</th>                   <td>OLS</td>       <th>  Adj. R-squared (uncentered):</th> <td>   0.958</td>\n",
              "</tr>\n",
              "<tr>\n",
              "  <th>Method:</th>             <td>Least Squares</td>  <th>  F-statistic:       </th>          <td>   891.3</td>\n",
              "</tr>\n",
              "<tr>\n",
              "  <th>Date:</th>             <td>Mon, 16 Nov 2020</td> <th>  Prob (F-statistic):</th>           <td>  0.00</td> \n",
              "</tr>\n",
              "<tr>\n",
              "  <th>Time:</th>                 <td>23:51:11</td>     <th>  Log-Likelihood:    </th>          <td> -1523.8</td>\n",
              "</tr>\n",
              "<tr>\n",
              "  <th>No. Observations:</th>      <td>   506</td>      <th>  AIC:               </th>          <td>   3074.</td>\n",
              "</tr>\n",
              "<tr>\n",
              "  <th>Df Residuals:</th>          <td>   493</td>      <th>  BIC:               </th>          <td>   3128.</td>\n",
              "</tr>\n",
              "<tr>\n",
              "  <th>Df Model:</th>              <td>    13</td>      <th>                     </th>              <td> </td>   \n",
              "</tr>\n",
              "<tr>\n",
              "  <th>Covariance Type:</th>      <td>nonrobust</td>    <th>                     </th>              <td> </td>   \n",
              "</tr>\n",
              "</table>\n",
              "<table class=\"simpletable\">\n",
              "<tr>\n",
              "     <td></td>        <th>coef</th>     <th>std err</th>      <th>t</th>      <th>P>|t|</th>  <th>[0.025</th>    <th>0.975]</th>  \n",
              "</tr>\n",
              "<tr>\n",
              "  <th>CRIM</th>    <td>   -0.0929</td> <td>    0.034</td> <td>   -2.699</td> <td> 0.007</td> <td>   -0.161</td> <td>   -0.025</td>\n",
              "</tr>\n",
              "<tr>\n",
              "  <th>ZN</th>      <td>    0.0487</td> <td>    0.014</td> <td>    3.382</td> <td> 0.001</td> <td>    0.020</td> <td>    0.077</td>\n",
              "</tr>\n",
              "<tr>\n",
              "  <th>INDUS</th>   <td>   -0.0041</td> <td>    0.064</td> <td>   -0.063</td> <td> 0.950</td> <td>   -0.131</td> <td>    0.123</td>\n",
              "</tr>\n",
              "<tr>\n",
              "  <th>CHAS</th>    <td>    2.8540</td> <td>    0.904</td> <td>    3.157</td> <td> 0.002</td> <td>    1.078</td> <td>    4.630</td>\n",
              "</tr>\n",
              "<tr>\n",
              "  <th>NOX</th>     <td>   -2.8684</td> <td>    3.359</td> <td>   -0.854</td> <td> 0.394</td> <td>   -9.468</td> <td>    3.731</td>\n",
              "</tr>\n",
              "<tr>\n",
              "  <th>RM</th>      <td>    5.9281</td> <td>    0.309</td> <td>   19.178</td> <td> 0.000</td> <td>    5.321</td> <td>    6.535</td>\n",
              "</tr>\n",
              "<tr>\n",
              "  <th>AGE</th>     <td>   -0.0073</td> <td>    0.014</td> <td>   -0.526</td> <td> 0.599</td> <td>   -0.034</td> <td>    0.020</td>\n",
              "</tr>\n",
              "<tr>\n",
              "  <th>DIS</th>     <td>   -0.9685</td> <td>    0.196</td> <td>   -4.951</td> <td> 0.000</td> <td>   -1.353</td> <td>   -0.584</td>\n",
              "</tr>\n",
              "<tr>\n",
              "  <th>RAD</th>     <td>    0.1712</td> <td>    0.067</td> <td>    2.564</td> <td> 0.011</td> <td>    0.040</td> <td>    0.302</td>\n",
              "</tr>\n",
              "<tr>\n",
              "  <th>TAX</th>     <td>   -0.0094</td> <td>    0.004</td> <td>   -2.395</td> <td> 0.017</td> <td>   -0.017</td> <td>   -0.002</td>\n",
              "</tr>\n",
              "<tr>\n",
              "  <th>PTRATIO</th> <td>   -0.3922</td> <td>    0.110</td> <td>   -3.570</td> <td> 0.000</td> <td>   -0.608</td> <td>   -0.176</td>\n",
              "</tr>\n",
              "<tr>\n",
              "  <th>B</th>       <td>    0.0149</td> <td>    0.003</td> <td>    5.528</td> <td> 0.000</td> <td>    0.010</td> <td>    0.020</td>\n",
              "</tr>\n",
              "<tr>\n",
              "  <th>LSTAT</th>   <td>   -0.4163</td> <td>    0.051</td> <td>   -8.197</td> <td> 0.000</td> <td>   -0.516</td> <td>   -0.317</td>\n",
              "</tr>\n",
              "</table>\n",
              "<table class=\"simpletable\">\n",
              "<tr>\n",
              "  <th>Omnibus:</th>       <td>204.082</td> <th>  Durbin-Watson:     </th> <td>   0.999</td> \n",
              "</tr>\n",
              "<tr>\n",
              "  <th>Prob(Omnibus):</th> <td> 0.000</td>  <th>  Jarque-Bera (JB):  </th> <td>1374.225</td> \n",
              "</tr>\n",
              "<tr>\n",
              "  <th>Skew:</th>          <td> 1.609</td>  <th>  Prob(JB):          </th> <td>3.90e-299</td>\n",
              "</tr>\n",
              "<tr>\n",
              "  <th>Kurtosis:</th>      <td>10.404</td>  <th>  Cond. No.          </th> <td>8.50e+03</td> \n",
              "</tr>\n",
              "</table><br/><br/>Warnings:<br/>[1] Standard Errors assume that the covariance matrix of the errors is correctly specified.<br/>[2] The condition number is large, 8.5e+03. This might indicate that there are<br/>strong multicollinearity or other numerical problems."
            ],
            "text/plain": [
              "<class 'statsmodels.iolib.summary.Summary'>\n",
              "\"\"\"\n",
              "                                 OLS Regression Results                                \n",
              "=======================================================================================\n",
              "Dep. Variable:                      y   R-squared (uncentered):                   0.959\n",
              "Model:                            OLS   Adj. R-squared (uncentered):              0.958\n",
              "Method:                 Least Squares   F-statistic:                              891.3\n",
              "Date:                Mon, 16 Nov 2020   Prob (F-statistic):                        0.00\n",
              "Time:                        23:51:11   Log-Likelihood:                         -1523.8\n",
              "No. Observations:                 506   AIC:                                      3074.\n",
              "Df Residuals:                     493   BIC:                                      3128.\n",
              "Df Model:                          13                                                  \n",
              "Covariance Type:            nonrobust                                                  \n",
              "==============================================================================\n",
              "                 coef    std err          t      P>|t|      [0.025      0.975]\n",
              "------------------------------------------------------------------------------\n",
              "CRIM          -0.0929      0.034     -2.699      0.007      -0.161      -0.025\n",
              "ZN             0.0487      0.014      3.382      0.001       0.020       0.077\n",
              "INDUS         -0.0041      0.064     -0.063      0.950      -0.131       0.123\n",
              "CHAS           2.8540      0.904      3.157      0.002       1.078       4.630\n",
              "NOX           -2.8684      3.359     -0.854      0.394      -9.468       3.731\n",
              "RM             5.9281      0.309     19.178      0.000       5.321       6.535\n",
              "AGE           -0.0073      0.014     -0.526      0.599      -0.034       0.020\n",
              "DIS           -0.9685      0.196     -4.951      0.000      -1.353      -0.584\n",
              "RAD            0.1712      0.067      2.564      0.011       0.040       0.302\n",
              "TAX           -0.0094      0.004     -2.395      0.017      -0.017      -0.002\n",
              "PTRATIO       -0.3922      0.110     -3.570      0.000      -0.608      -0.176\n",
              "B              0.0149      0.003      5.528      0.000       0.010       0.020\n",
              "LSTAT         -0.4163      0.051     -8.197      0.000      -0.516      -0.317\n",
              "==============================================================================\n",
              "Omnibus:                      204.082   Durbin-Watson:                   0.999\n",
              "Prob(Omnibus):                  0.000   Jarque-Bera (JB):             1374.225\n",
              "Skew:                           1.609   Prob(JB):                    3.90e-299\n",
              "Kurtosis:                      10.404   Cond. No.                     8.50e+03\n",
              "==============================================================================\n",
              "\n",
              "Warnings:\n",
              "[1] Standard Errors assume that the covariance matrix of the errors is correctly specified.\n",
              "[2] The condition number is large, 8.5e+03. This might indicate that there are\n",
              "strong multicollinearity or other numerical problems.\n",
              "\"\"\""
            ]
          },
          "metadata": {
            "tags": []
          },
          "execution_count": 33
        }
      ]
    },
    {
      "cell_type": "markdown",
      "metadata": {
        "id": "-eL77K-IE0pw"
      },
      "source": [
        "Explicação dos dados acima:\n",
        "\n",
        "* std err: O erro padrão básico da estimativa do coeficiente. \n",
        "* t: O valor da estatística t. Esta é uma medida de quão estatisticamente significativo é o coeficiente.\n",
        "* P> | t |: P-valor de que a hipótese nula de que o coeficiente = 0 é verdadeira. Se for menor que o nível de confiança, geralmente 0,05, indica que há uma relação estatisticamente significativa entre o termo e a resposta."
      ]
    },
    {
      "cell_type": "markdown",
      "metadata": {
        "id": "0-C8gTEEE0px"
      },
      "source": [
        "Baseado no valor de (P>|t|) < 0.05, vemos que as variáveis RM, DIS, PTRATIO, B, LSTAT tem alta influência no resultado\n",
        "\n",
        "\n",
        "Baseado em (t), vemos que o termo mais significante é RM "
      ]
    },
    {
      "cell_type": "code",
      "metadata": {
        "id": "LEKA3e3HE0py",
        "colab": {
          "base_uri": "https://localhost:8080/"
        },
        "outputId": "7c9dcf61-a2da-445f-e823-477cc95b924a"
      },
      "source": [
        "# Gerando a matriz de correlação entre as variáveis\n",
        "X = df.iloc[:,:-1]\n",
        "matriz_corr = X.corr()\n",
        "print (matriz_corr)"
      ],
      "execution_count": null,
      "outputs": [
        {
          "output_type": "stream",
          "text": [
            "             CRIM        ZN     INDUS  ...   PTRATIO         B     LSTAT\n",
            "CRIM     1.000000 -0.200469  0.406583  ...  0.289946 -0.385064  0.455621\n",
            "ZN      -0.200469  1.000000 -0.533828  ... -0.391679  0.175520 -0.412995\n",
            "INDUS    0.406583 -0.533828  1.000000  ...  0.383248 -0.356977  0.603800\n",
            "CHAS    -0.055892 -0.042697  0.062938  ... -0.121515  0.048788 -0.053929\n",
            "NOX      0.420972 -0.516604  0.763651  ...  0.188933 -0.380051  0.590879\n",
            "RM      -0.219247  0.311991 -0.391676  ... -0.355501  0.128069 -0.613808\n",
            "AGE      0.352734 -0.569537  0.644779  ...  0.261515 -0.273534  0.602339\n",
            "DIS     -0.379670  0.664408 -0.708027  ... -0.232471  0.291512 -0.496996\n",
            "RAD      0.625505 -0.311948  0.595129  ...  0.464741 -0.444413  0.488676\n",
            "TAX      0.582764 -0.314563  0.720760  ...  0.460853 -0.441808  0.543993\n",
            "PTRATIO  0.289946 -0.391679  0.383248  ...  1.000000 -0.177383  0.374044\n",
            "B       -0.385064  0.175520 -0.356977  ... -0.177383  1.000000 -0.366087\n",
            "LSTAT    0.455621 -0.412995  0.603800  ...  0.374044 -0.366087  1.000000\n",
            "\n",
            "[13 rows x 13 columns]\n"
          ],
          "name": "stdout"
        }
      ]
    },
    {
      "cell_type": "markdown",
      "metadata": {
        "id": "Ehb-acYjE0p1"
      },
      "source": [
        "Não está fácil de ver a correlação na planilha acima. Vamos adicionar tudo em um gráfico com cor"
      ]
    },
    {
      "cell_type": "code",
      "metadata": {
        "id": "N8jNIiBfE0p2"
      },
      "source": [
        "# Criando uma função para plotar a correlação entre as variáveis\n",
        "def visualize_correlation_matrix(data, hurdle = 0.0):\n",
        "    R = np.corrcoef(data, rowvar = 0)\n",
        "    R[np.where(np.abs(R) < hurdle)] = 0.0\n",
        "    heatmap = plt.pcolor(R, cmap = mpl.cm.coolwarm, alpha = 0.8)\n",
        "    heatmap.axes.set_frame_on(False)\n",
        "    heatmap.axes.set_yticks(np.arange(R.shape[0]) + 0.5, minor = False)\n",
        "    heatmap.axes.set_xticks(np.arange(R.shape[1]) + 0.5, minor = False)\n",
        "    heatmap.axes.set_xticklabels(variables, minor = False)\n",
        "    plt.xticks(rotation=90)\n",
        "    heatmap.axes.set_yticklabels(variables, minor = False)\n",
        "    plt.tick_params(axis = 'both', which = 'both', bottom = False, top = False, left = False, right = False) \n",
        "    plt.colorbar()\n",
        "    plt.show()"
      ],
      "execution_count": null,
      "outputs": []
    },
    {
      "cell_type": "code",
      "metadata": {
        "id": "CduEkqK3E0p6",
        "colab": {
          "base_uri": "https://localhost:8080/",
          "height": 301
        },
        "outputId": "25505b47-ee7b-4a4f-ef77-4d6f9e3b5044"
      },
      "source": [
        "# Visualizando o Plot\n",
        "# Gerando número de observações e variáveis\n",
        "observations = len(df)\n",
        "variables = df.columns[:-1]\n",
        "visualize_correlation_matrix(X, hurdle = 0.5)"
      ],
      "execution_count": null,
      "outputs": [
        {
          "output_type": "display_data",
          "data": {
            "image/png": "[encoded data removed]",
            "text/plain": [
              "<Figure size 432x288 with 2 Axes>"
            ]
          },
          "metadata": {
            "tags": [],
            "needs_background": "light"
          }
        }
      ]
    },
    {
      "cell_type": "markdown",
      "metadata": {
        "id": "S4saIyGOE0p-"
      },
      "source": [
        "Vemos na tabela acima que as variáveis RM, B e PTRATIO não possui correlação com outras variáveis, de forma que podemos analisá-las em separado.  \n",
        "\n",
        "Como RM tem a maior significância, vamos utilizá-la para tentar explicar a relação com o resultado em uma regressão linear simples"
      ]
    },
    {
      "cell_type": "markdown",
      "metadata": {
        "id": "RWca4bbqE0qH"
      },
      "source": [
        "## Regressão Linear com 1 variável"
      ]
    },
    {
      "cell_type": "code",
      "metadata": {
        "id": "jbs0st0LE0p_",
        "colab": {
          "base_uri": "https://localhost:8080/",
          "height": 283
        },
        "outputId": "f641c140-5b91-45af-f6f4-913a864a3bc6"
      },
      "source": [
        "# Vamos agora imprimir um scatter plot entre RM e o resultado (target)\n",
        "# Definindo o range dos valores de x e y\n",
        "VAR = 'RM'\n",
        "TARGET = 'target'\n",
        "x_range = [df[VAR].min(), df[VAR].max()]\n",
        "y_range = [df[TARGET].min(), df[TARGET].max()]\n",
        "\n",
        "# Plot dos valores de x e y com a média\n",
        "scatter_plot = df.plot(kind = 'scatter', x = VAR, y = TARGET, xlim = x_range, ylim = y_range)"
      ],
      "execution_count": null,
      "outputs": [
        {
          "output_type": "display_data",
          "data": {
            "image/png": "[encoded data removed]",
            "text/plain": [
              "<Figure size 432x288 with 1 Axes>"
            ]
          },
          "metadata": {
            "tags": [],
            "needs_background": "light"
          }
        }
      ]
    },
    {
      "cell_type": "code",
      "metadata": {
        "id": "W5NQiW_BE0qQ"
      },
      "source": [
        "# Define os valores de X e y\n",
        "num_observ = len(df)\n",
        "X_1 = df[VAR].values.reshape((num_observ, 1)) \n",
        "y = df[TARGET].values "
      ],
      "execution_count": null,
      "outputs": []
    },
    {
      "cell_type": "code",
      "metadata": {
        "id": "-KDGvQ9y9WRD",
        "colab": {
          "base_uri": "https://localhost:8080/"
        },
        "outputId": "d00aed21-137a-4ab5-e6ab-2ec7bf8092e0"
      },
      "source": [
        "# Separação entre os dados de treino e teste\n",
        "from sklearn.model_selection import train_test_split\n",
        "X_train, X_test, y_train, y_test = train_test_split (X_1 , y, test_size=0.2, random_state=50)\n",
        "print('X_train:',X_train.shape)\n",
        "print('y_train:',y_train.shape)\n",
        "print('X_test:',X_test.shape)\n",
        "print('y_test:',y_test.shape)"
      ],
      "execution_count": null,
      "outputs": [
        {
          "output_type": "stream",
          "text": [
            "X_train: (404, 1)\n",
            "y_train: (404,)\n",
            "X_test: (102, 1)\n",
            "y_test: (102,)\n"
          ],
          "name": "stdout"
        }
      ]
    },
    {
      "cell_type": "code",
      "metadata": {
        "id": "lQXMX2GOE0qT",
        "colab": {
          "base_uri": "https://localhost:8080/"
        },
        "outputId": "314600be-f311-4a66-b112-65f22d17ad89"
      },
      "source": [
        "# Importando a biblioteca\n",
        "from sklearn import linear_model\n",
        "# Cria o objeto\n",
        "lin_reg = linear_model.LinearRegression()\n",
        "\n",
        "# Treina o modelo - fit()\n",
        "lin_reg.fit(X_train,y_train)"
      ],
      "execution_count": null,
      "outputs": [
        {
          "output_type": "execute_result",
          "data": {
            "text/plain": [
              "LinearRegression(copy_X=True, fit_intercept=True, n_jobs=None, normalize=False)"
            ]
          },
          "metadata": {
            "tags": []
          },
          "execution_count": 40
        }
      ]
    },
    {
      "cell_type": "code",
      "metadata": {
        "id": "SeYvP_DQE0qX",
        "colab": {
          "base_uri": "https://localhost:8080/"
        },
        "outputId": "eb5e486b-509c-4048-b291-0895d6fc2b15"
      },
      "source": [
        "# Imprime os coeficientes\n",
        "print (lin_reg.coef_)\n",
        "print (lin_reg.intercept_)"
      ],
      "execution_count": null,
      "outputs": [
        {
          "output_type": "stream",
          "text": [
            "[9.39289524]\n",
            "-36.66357314722494\n"
          ],
          "name": "stdout"
        }
      ]
    },
    {
      "cell_type": "code",
      "metadata": {
        "id": "h_WEsbhhE0qb",
        "colab": {
          "base_uri": "https://localhost:8080/"
        },
        "outputId": "89d8a867-0134-4e41-a09c-26895ece3c33"
      },
      "source": [
        "# prevendo valores para X_test\n",
        "y_pred = lin_reg.predict(X_test)\n",
        "print('Shape y_pred:',y_pred.shape)"
      ],
      "execution_count": null,
      "outputs": [
        {
          "output_type": "stream",
          "text": [
            "Shape y_pred: (102,)\n"
          ],
          "name": "stdout"
        }
      ]
    },
    {
      "cell_type": "code",
      "metadata": {
        "id": "FbdOnMIO95mw",
        "colab": {
          "base_uri": "https://localhost:8080/"
        },
        "outputId": "3244783f-76b0-472e-dbb4-9b7b3bcb2b5b"
      },
      "source": [
        "# Medidas de desempenho\n",
        "from sklearn.metrics import mean_squared_error,mean_absolute_error,r2_score\n",
        "print(\"Mean Squared Error (MSE):\",mean_squared_error(y_pred,y_test))\n",
        "print(\"Mean Absolute Error (MAE):\",mean_absolute_error(y_pred,y_test))\n",
        "print(\"Score R2:\",r2_score(y_pred,y_test))"
      ],
      "execution_count": null,
      "outputs": [
        {
          "output_type": "stream",
          "text": [
            "Mean Squared Error (MSE): 49.359238697733865\n",
            "Mean Absolute Error (MAE): 4.538993630294772\n",
            "Score R2: -0.23000278585467582\n"
          ],
          "name": "stdout"
        }
      ]
    },
    {
      "cell_type": "code",
      "metadata": {
        "id": "_0Dzh6UcE0qe",
        "colab": {
          "base_uri": "https://localhost:8080/",
          "height": 283
        },
        "outputId": "f2f7fbc8-334a-4cd5-f531-8d4b0b17c4e1"
      },
      "source": [
        "# Plotando a linha de regressão para todos os dados\n",
        "\n",
        "# Prevendo os valores de y para todos os dados\n",
        "y_pred_all = lin_reg.predict(X_1)\n",
        "\n",
        "# Primeira camada do Scatter Plot\n",
        "scatter_plot = df.plot(kind = 'scatter', x = VAR, y = TARGET, xlim = x_range, ylim = y_range)\n",
        "\n",
        "# Segunda camada do Scatter Plot (linha de regressão)\n",
        "regression_line = scatter_plot.plot(df[VAR], y_pred_all, 'o', color = 'orange', linewidth = 2)"
      ],
      "execution_count": null,
      "outputs": [
        {
          "output_type": "display_data",
          "data": {
            "image/png": "[encoded data removed]",
            "text/plain": [
              "<Figure size 432x288 with 1 Axes>"
            ]
          },
          "metadata": {
            "tags": [],
            "needs_background": "light"
          }
        }
      ]
    },
    {
      "cell_type": "markdown",
      "metadata": {
        "id": "gWKTo0fQE0qh"
      },
      "source": [
        "Veja que a regressão linear não é perfeita perto dos dados reais, mas apenas uma aproximação.\n",
        "Vamos ver mais adiante que existem formas estatísticas mais precisas para resolver esse e outros problemas  "
      ]
    },
    {
      "cell_type": "markdown",
      "metadata": {
        "id": "zC7ziscPE0qi"
      },
      "source": [
        "# Exercício 02 (Aula05_Parte1)\n",
        "\n",
        "Adicione novas células de código abaixo e implemente um modelo de Regressão Linear que utilize mais variáveis do dataset para prever a variável TARGET.\n",
        "\n",
        "Crie também uma célula de código para imprimir os valores de MSE, MAE e R2\n",
        "\n",
        "Finalmente, crie uma célula de Texto para responder se o resultado foi melhor ou pior.\n",
        "\n",
        "Obs: Antes de entregar seu notebook, verifique se o mesmo está funcionando adequadamente com o menu \"Ambiente de Execução > Reiniciar e executar tudo\".\n",
        "\n",
        "Salve o arquivo .ipynb com a opção \"Arquivo > Fazer download do .ipynb\" e poste pelo Ulife"
      ]
    },
    {
      "cell_type": "code",
      "metadata": {
        "id": "Ktiu18iWVRQa",
        "colab": {
          "base_uri": "https://localhost:8080/"
        },
        "outputId": "97b534a8-6442-446c-ffff-925393932de5"
      },
      "source": [
        "# Vamos agora imprimir um scatter plot entre RM e o resultado (target)\n",
        "# Definindo o range dos valores de x e y\n",
        "VAR = ['CRIM','ZN','INDUS','CHAS','NOX','AGE','DIS','RAD','TAX','LSTAT','RM','PTRATIO','B']\n",
        "X_2 = X[VAR].values.reshape((len(df),13))\n",
        "print(X_2.shape)"
      ],
      "execution_count": null,
      "outputs": [
        {
          "output_type": "stream",
          "text": [
            "(506, 13)\n"
          ],
          "name": "stdout"
        }
      ]
    },
    {
      "cell_type": "code",
      "metadata": {
        "id": "vxjjJe1zWFDE"
      },
      "source": [
        "# Define os valores de X e y\n",
        "num_observ = len(df)\n",
        "X_1 = df[VAR].values.reshape((num_observ, 13)) \n",
        "y = df[TARGET].values"
      ],
      "execution_count": null,
      "outputs": []
    },
    {
      "cell_type": "code",
      "metadata": {
        "id": "yrJhcXCGWFDH",
        "colab": {
          "base_uri": "https://localhost:8080/"
        },
        "outputId": "7be3dba1-2394-41dd-c070-38311c1f50e1"
      },
      "source": [
        "# Separação entre os dados de treino e teste\n",
        "from sklearn.model_selection import train_test_split\n",
        "X_train, X_test, y_train, y_test = train_test_split (X_1 , y, test_size=0.2, random_state=50)\n",
        "print('X_train:',X_train.shape)\n",
        "print('y_train:',y_train.shape)\n",
        "print('X_test:',X_test.shape)\n",
        "print('y_test:',y_test.shape)"
      ],
      "execution_count": null,
      "outputs": [
        {
          "output_type": "stream",
          "text": [
            "X_train: (404, 13)\n",
            "y_train: (404,)\n",
            "X_test: (102, 13)\n",
            "y_test: (102,)\n"
          ],
          "name": "stdout"
        }
      ]
    },
    {
      "cell_type": "code",
      "metadata": {
        "id": "AUBAryVuWFDJ",
        "colab": {
          "base_uri": "https://localhost:8080/"
        },
        "outputId": "d2261ace-9336-448a-befd-65f364a41bb4"
      },
      "source": [
        "# Importando a biblioteca\n",
        "from sklearn import linear_model\n",
        "# Cria o objeto\n",
        "lin_reg = linear_model.LinearRegression()\n",
        "\n",
        "# Treina o modelo - fit()\n",
        "lin_reg.fit(X_train,y_train)"
      ],
      "execution_count": null,
      "outputs": [
        {
          "output_type": "execute_result",
          "data": {
            "text/plain": [
              "LinearRegression(copy_X=True, fit_intercept=True, n_jobs=None, normalize=False)"
            ]
          },
          "metadata": {
            "tags": []
          },
          "execution_count": 63
        }
      ]
    },
    {
      "cell_type": "code",
      "metadata": {
        "id": "7D0X2MPvWFDL",
        "colab": {
          "base_uri": "https://localhost:8080/"
        },
        "outputId": "6d21f0a1-db90-4692-90b4-9e07a9fd1129"
      },
      "source": [
        "# Imprime os coeficientes\n",
        "print (lin_reg.coef_)\n",
        "print (lin_reg.intercept_)"
      ],
      "execution_count": null,
      "outputs": [
        {
          "output_type": "stream",
          "text": [
            "[-1.04683734e-01  3.94173679e-02  5.97497992e-02  8.49189549e-01\n",
            " -2.11417205e+01  6.15729868e-03 -1.45337348e+00  2.97609192e-01\n",
            " -1.36194161e-02 -4.77003618e-01  4.18935210e+00 -1.09117880e+00\n",
            "  7.84352525e-03]\n",
            "38.316117166413804\n"
          ],
          "name": "stdout"
        }
      ]
    },
    {
      "cell_type": "code",
      "metadata": {
        "id": "Pa-Vg211WFDN",
        "colab": {
          "base_uri": "https://localhost:8080/"
        },
        "outputId": "3d4f622e-3b50-45a0-f0e6-4e9fa6f7fc77"
      },
      "source": [
        "# prevendo valores para X_test\n",
        "y_pred = lin_reg.predict(X_test)\n",
        "print('Shape y_pred:',y_pred.shape)"
      ],
      "execution_count": null,
      "outputs": [
        {
          "output_type": "stream",
          "text": [
            "Shape y_pred: (102,)\n"
          ],
          "name": "stdout"
        }
      ]
    },
    {
      "cell_type": "code",
      "metadata": {
        "id": "rYgKuoLKWFDP",
        "colab": {
          "base_uri": "https://localhost:8080/"
        },
        "outputId": "d130c28d-b6cc-4ef9-d395-649ae7a7ea3e"
      },
      "source": [
        "# Medidas de desempenho\n",
        "from sklearn.metrics import mean_squared_error,mean_absolute_error,r2_score\n",
        "print(\"Mean Squared Error (MSE):\",mean_squared_error(y_pred,y_test))\n",
        "print(\"Mean Absolute Error (MAE):\",mean_absolute_error(y_pred,y_test))\n",
        "print(\"Score R2:\",r2_score(y_pred,y_test))"
      ],
      "execution_count": null,
      "outputs": [
        {
          "output_type": "stream",
          "text": [
            "Mean Squared Error (MSE): 26.345537363312996\n",
            "Mean Absolute Error (MAE): 3.4021092754056066\n",
            "Score R2: 0.525721003340482\n"
          ],
          "name": "stdout"
        }
      ]
    },
    {
      "cell_type": "code",
      "metadata": {
        "id": "HSf4_r_NWFDR"
      },
      "source": [
        "# Plotando a linha de regressão para todos os dados\n",
        "\n",
        "# Prevendo os valores de y para todos os dados\n",
        "y_pred_all = lin_reg.predict(X_1)\n",
        "\n",
        "# Segunda camada do Scatter Plot (linha de regressão)\n",
        "regression_line = scatter_plot.plot(df[VAR], y_pred_all, 'o', color = 'orange', linewidth = 2)"
      ],
      "execution_count": null,
      "outputs": []
    },
    {
      "cell_type": "markdown",
      "metadata": {
        "id": "AsHuFzfYikAM"
      },
      "source": [
        "O modelo acima com o uso de uma variavel o resultado ficou pior poi o R2 ficou negativo. Já o uso com mais variaveis o resultado foi melhor e positivo."
      ]
    },
    {
      "cell_type": "markdown",
      "metadata": {
        "id": "LSImK0juAHtl"
      },
      "source": [
        "FIM"
      ]
    }
  ]
}